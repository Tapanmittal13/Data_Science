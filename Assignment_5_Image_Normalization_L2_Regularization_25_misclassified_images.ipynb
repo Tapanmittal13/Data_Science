{
  "nbformat": 4,
  "nbformat_minor": 0,
  "metadata": {
    "colab": {
      "name": "Assignment_5.ipynb",
      "provenance": [],
      "collapsed_sections": [],
      "include_colab_link": true
    },
    "kernelspec": {
      "name": "python3",
      "display_name": "Python 3"
    },
    "accelerator": "GPU"
  },
  "cells": [
    {
      "cell_type": "markdown",
      "metadata": {
        "id": "view-in-github",
        "colab_type": "text"
      },
      "source": [
        "<a href=\"https://colab.research.google.com/github/Tapanmittal13/Data_Science/blob/master/Assignment_5_Image_Normalization_L2_Regularization_25_misclassified_images.ipynb\" target=\"_parent\"><img src=\"https://colab.research.google.com/assets/colab-badge.svg\" alt=\"Open In Colab\"/></a>"
      ]
    },
    {
      "cell_type": "markdown",
      "metadata": {
        "id": "SokRCLnE7j7c",
        "colab_type": "text"
      },
      "source": [
        "Took 4th code from assignment 4 and ran for 40 epcohs as mentioned this assignment\n",
        "1. Did Image normalisation-it doesnt seem to change anything since its MNIST dataset.\n",
        "2. Added L2 regularisation and Relu after Batch Normalisation.\n",
        "3. Saved the best model and used the saved model to do prediction on test data.\n",
        "4. Sorted misclassfied images in test dataset."
      ]
    },
    {
      "cell_type": "markdown",
      "metadata": {
        "id": "aNyZv-Ec52ot",
        "colab_type": "text"
      },
      "source": [
        "# **Import Libraries and modules**"
      ]
    },
    {
      "cell_type": "code",
      "metadata": {
        "id": "ilFwcrY5rb5w",
        "colab_type": "code",
        "outputId": "98acb41c-3e61-4354-9a8b-aa87c9b16c70",
        "colab": {
          "base_uri": "https://localhost:8080/",
          "height": 33
        }
      },
      "source": [
        "from google.colab import drive\n",
        "drive.mount('/content/gdrive')"
      ],
      "execution_count": 0,
      "outputs": [
        {
          "output_type": "stream",
          "text": [
            "Drive already mounted at /content/gdrive; to attempt to forcibly remount, call drive.mount(\"/content/gdrive\", force_remount=True).\n"
          ],
          "name": "stdout"
        }
      ]
    },
    {
      "cell_type": "code",
      "metadata": {
        "id": "3m3w1Cw49Zkt",
        "colab_type": "code",
        "colab": {}
      },
      "source": [
        "# https://keras.io/\n",
        "!pip install -q keras\n",
        "import keras"
      ],
      "execution_count": 0,
      "outputs": []
    },
    {
      "cell_type": "code",
      "metadata": {
        "id": "Eso6UHE080D4",
        "colab_type": "code",
        "colab": {}
      },
      "source": [
        "import numpy as np\n",
        "\n",
        "from keras.models import Sequential\n",
        "from keras.layers import Dense, Dropout, Activation, Flatten, Add\n",
        "from keras.layers import Convolution2D, MaxPooling2D\n",
        "from keras.utils import np_utils\n",
        "from keras.layers.normalization import BatchNormalization\n",
        "from keras.datasets import mnist"
      ],
      "execution_count": 0,
      "outputs": []
    },
    {
      "cell_type": "markdown",
      "metadata": {
        "id": "zByEi95J86RD",
        "colab_type": "text"
      },
      "source": [
        "### Load pre-shuffled MNIST data into train and test sets"
      ]
    },
    {
      "cell_type": "code",
      "metadata": {
        "id": "7eRM0QWN83PV",
        "colab_type": "code",
        "colab": {}
      },
      "source": [
        "(X_train, y_train), (X_test, y_test) = mnist.load_data()"
      ],
      "execution_count": 0,
      "outputs": []
    },
    {
      "cell_type": "code",
      "metadata": {
        "id": "4a4Be72j8-ZC",
        "colab_type": "code",
        "outputId": "e0c55129-dc18-4ef5-edc0-3884a79daac9",
        "colab": {
          "base_uri": "https://localhost:8080/",
          "height": 302
        }
      },
      "source": [
        "print (X_train.shape)\n",
        "from matplotlib import pyplot as plt\n",
        "%matplotlib inline\n",
        "plt.imshow(X_train[0])"
      ],
      "execution_count": 0,
      "outputs": [
        {
          "output_type": "stream",
          "text": [
            "(60000, 28, 28)\n"
          ],
          "name": "stdout"
        },
        {
          "output_type": "execute_result",
          "data": {
            "text/plain": [
              "<matplotlib.image.AxesImage at 0x7f2c3bb77550>"
            ]
          },
          "metadata": {
            "tags": []
          },
          "execution_count": 48
        },
        {
          "output_type": "display_data",
          "data": {
            "image/png": "[encoded data removed]",
            "text/plain": [
              "<Figure size 432x288 with 1 Axes>"
            ]
          },
          "metadata": {
            "tags": []
          }
        }
      ]
    },
    {
      "cell_type": "code",
      "metadata": {
        "id": "dkmprriw9AnZ",
        "colab_type": "code",
        "colab": {}
      },
      "source": [
        "X_train = X_train.reshape(X_train.shape[0], 28, 28,1)\n",
        "X_test = X_test.reshape(X_test.shape[0], 28, 28,1)"
      ],
      "execution_count": 0,
      "outputs": []
    },
    {
      "cell_type": "code",
      "metadata": {
        "id": "X2m4YS4E9CRh",
        "colab_type": "code",
        "colab": {}
      },
      "source": [
        "X_train = X_train.astype('float32')\n",
        "X_test = X_test.astype('float32')\n",
        "X_train /= 255\n",
        "X_test /= 255"
      ],
      "execution_count": 0,
      "outputs": []
    },
    {
      "cell_type": "code",
      "metadata": {
        "id": "0Mn0vAYD9DvB",
        "colab_type": "code",
        "outputId": "43669891-ecf8-4132-ad93-9a8e09854705",
        "colab": {
          "base_uri": "https://localhost:8080/",
          "height": 33
        }
      },
      "source": [
        "y_train[:10]"
      ],
      "execution_count": 0,
      "outputs": [
        {
          "output_type": "execute_result",
          "data": {
            "text/plain": [
              "array([5, 0, 4, 1, 9, 2, 1, 3, 1, 4], dtype=uint8)"
            ]
          },
          "metadata": {
            "tags": []
          },
          "execution_count": 51
        }
      ]
    },
    {
      "cell_type": "code",
      "metadata": {
        "id": "ZG8JiXR39FHC",
        "colab_type": "code",
        "colab": {}
      },
      "source": [
        "# Convert 1-dimensional class arrays to 10-dimensional class matrices\n",
        "Y_train = np_utils.to_categorical(y_train, 10)\n",
        "Y_test = np_utils.to_categorical(y_test, 10)"
      ],
      "execution_count": 0,
      "outputs": []
    },
    {
      "cell_type": "code",
      "metadata": {
        "id": "fYlFRvKS9HMB",
        "colab_type": "code",
        "outputId": "357ec473-b6a0-4b08-8219-1f33232aacc2",
        "colab": {
          "base_uri": "https://localhost:8080/",
          "height": 180
        }
      },
      "source": [
        "Y_train[:10]\n"
      ],
      "execution_count": 0,
      "outputs": [
        {
          "output_type": "execute_result",
          "data": {
            "text/plain": [
              "array([[0., 0., 0., 0., 0., 1., 0., 0., 0., 0.],\n",
              "       [1., 0., 0., 0., 0., 0., 0., 0., 0., 0.],\n",
              "       [0., 0., 0., 0., 1., 0., 0., 0., 0., 0.],\n",
              "       [0., 1., 0., 0., 0., 0., 0., 0., 0., 0.],\n",
              "       [0., 0., 0., 0., 0., 0., 0., 0., 0., 1.],\n",
              "       [0., 0., 1., 0., 0., 0., 0., 0., 0., 0.],\n",
              "       [0., 1., 0., 0., 0., 0., 0., 0., 0., 0.],\n",
              "       [0., 0., 0., 1., 0., 0., 0., 0., 0., 0.],\n",
              "       [0., 1., 0., 0., 0., 0., 0., 0., 0., 0.],\n",
              "       [0., 0., 0., 0., 1., 0., 0., 0., 0., 0.]], dtype=float32)"
            ]
          },
          "metadata": {
            "tags": []
          },
          "execution_count": 53
        }
      ]
    },
    {
      "cell_type": "code",
      "metadata": {
        "id": "TT3y5wmHuXRV",
        "colab_type": "code",
        "colab": {}
      },
      "source": [
        "from keras.layers import Activation\n",
        "from keras.regularizers import l2\n",
        "\n",
        "kernel_regularizer = l2(0.0001)\n",
        "model = Sequential()\n",
        "\n",
        "#Transition block\n",
        "model.add(Convolution2D(10,3,kernel_regularizer=kernel_regularizer, input_shape=(28,28,1))) #26\n",
        "model.add(BatchNormalization())\n",
        "model.add(Activation('relu'))\n",
        "\n",
        "#Convolution block\n",
        "model.add(Convolution2D(10,3,kernel_regularizer=kernel_regularizer)) #24\n",
        "model.add(BatchNormalization())\n",
        "model.add(Activation('relu'))\n",
        "model.add(Dropout(0.1))\n",
        "\n",
        "model.add(Convolution2D(20, 3,kernel_regularizer=kernel_regularizer)) #22\n",
        "model.add(BatchNormalization())\n",
        "model.add(Activation('relu'))\n",
        "model.add(Dropout(0.1))\n",
        "\n",
        "#Transition block\n",
        "model.add(MaxPooling2D(2,2)) #11\n",
        "model.add(Convolution2D(10,1,kernel_regularizer=kernel_regularizer)) #11\n",
        "model.add(BatchNormalization())\n",
        "model.add(Activation('relu'))\n",
        "model.add(Dropout(0.1))\n",
        "\n",
        "#Convolution block\n",
        "model.add(Convolution2D(10,3,kernel_regularizer=kernel_regularizer)) #9\n",
        "model.add(BatchNormalization())\n",
        "model.add(Activation('relu'))\n",
        "model.add(Convolution2D(20, 3,kernel_regularizer=kernel_regularizer)) #7\n",
        "model.add(BatchNormalization())\n",
        "model.add(Activation('relu'))\n",
        "model.add(Dropout(0.1))\n",
        "\n",
        "#Transition block\n",
        "\n",
        "model.add(Convolution2D(10,1,kernel_regularizer=kernel_regularizer)) #7\n",
        "model.add(BatchNormalization())\n",
        "model.add(Activation('relu'))\n",
        "model.add(Dropout(0.1))\n",
        "\n",
        "model.add(Convolution2D(10,7,kernel_regularizer=kernel_regularizer))\n",
        "model.add(BatchNormalization()) #check this normalozation\n",
        "\n",
        "model.add(Flatten())\n",
        "model.add(Activation('softmax'))"
      ],
      "execution_count": 0,
      "outputs": []
    },
    {
      "cell_type": "code",
      "metadata": {
        "id": "TzdAYg1k9K7Z",
        "colab_type": "code",
        "outputId": "1ec62788-a78b-4996-9281-02f775e67235",
        "colab": {
          "base_uri": "https://localhost:8080/",
          "height": 1138
        }
      },
      "source": [
        "model.summary()"
      ],
      "execution_count": 0,
      "outputs": [
        {
          "output_type": "stream",
          "text": [
            "_________________________________________________________________\n",
            "Layer (type)                 Output Shape              Param #   \n",
            "=================================================================\n",
            "conv2d_9 (Conv2D)            (None, 26, 26, 10)        100       \n",
            "_________________________________________________________________\n",
            "batch_normalization_9 (Batch (None, 26, 26, 10)        40        \n",
            "_________________________________________________________________\n",
            "activation_9 (Activation)    (None, 26, 26, 10)        0         \n",
            "_________________________________________________________________\n",
            "conv2d_10 (Conv2D)           (None, 24, 24, 10)        910       \n",
            "_________________________________________________________________\n",
            "batch_normalization_10 (Batc (None, 24, 24, 10)        40        \n",
            "_________________________________________________________________\n",
            "activation_10 (Activation)   (None, 24, 24, 10)        0         \n",
            "_________________________________________________________________\n",
            "dropout_6 (Dropout)          (None, 24, 24, 10)        0         \n",
            "_________________________________________________________________\n",
            "conv2d_11 (Conv2D)           (None, 22, 22, 20)        1820      \n",
            "_________________________________________________________________\n",
            "batch_normalization_11 (Batc (None, 22, 22, 20)        80        \n",
            "_________________________________________________________________\n",
            "activation_11 (Activation)   (None, 22, 22, 20)        0         \n",
            "_________________________________________________________________\n",
            "dropout_7 (Dropout)          (None, 22, 22, 20)        0         \n",
            "_________________________________________________________________\n",
            "max_pooling2d_2 (MaxPooling2 (None, 11, 11, 20)        0         \n",
            "_________________________________________________________________\n",
            "conv2d_12 (Conv2D)           (None, 11, 11, 10)        210       \n",
            "_________________________________________________________________\n",
            "batch_normalization_12 (Batc (None, 11, 11, 10)        40        \n",
            "_________________________________________________________________\n",
            "activation_12 (Activation)   (None, 11, 11, 10)        0         \n",
            "_________________________________________________________________\n",
            "dropout_8 (Dropout)          (None, 11, 11, 10)        0         \n",
            "_________________________________________________________________\n",
            "conv2d_13 (Conv2D)           (None, 9, 9, 10)          910       \n",
            "_________________________________________________________________\n",
            "batch_normalization_13 (Batc (None, 9, 9, 10)          40        \n",
            "_________________________________________________________________\n",
            "activation_13 (Activation)   (None, 9, 9, 10)          0         \n",
            "_________________________________________________________________\n",
            "conv2d_14 (Conv2D)           (None, 7, 7, 20)          1820      \n",
            "_________________________________________________________________\n",
            "batch_normalization_14 (Batc (None, 7, 7, 20)          80        \n",
            "_________________________________________________________________\n",
            "activation_14 (Activation)   (None, 7, 7, 20)          0         \n",
            "_________________________________________________________________\n",
            "dropout_9 (Dropout)          (None, 7, 7, 20)          0         \n",
            "_________________________________________________________________\n",
            "conv2d_15 (Conv2D)           (None, 7, 7, 10)          210       \n",
            "_________________________________________________________________\n",
            "batch_normalization_15 (Batc (None, 7, 7, 10)          40        \n",
            "_________________________________________________________________\n",
            "activation_15 (Activation)   (None, 7, 7, 10)          0         \n",
            "_________________________________________________________________\n",
            "dropout_10 (Dropout)         (None, 7, 7, 10)          0         \n",
            "_________________________________________________________________\n",
            "conv2d_16 (Conv2D)           (None, 1, 1, 10)          4910      \n",
            "_________________________________________________________________\n",
            "batch_normalization_16 (Batc (None, 1, 1, 10)          40        \n",
            "_________________________________________________________________\n",
            "flatten_2 (Flatten)          (None, 10)                0         \n",
            "_________________________________________________________________\n",
            "activation_16 (Activation)   (None, 10)                0         \n",
            "=================================================================\n",
            "Total params: 11,290\n",
            "Trainable params: 11,090\n",
            "Non-trainable params: 200\n",
            "_________________________________________________________________\n"
          ],
          "name": "stdout"
        }
      ]
    },
    {
      "cell_type": "markdown",
      "metadata": {
        "id": "0JUzRc066KaB",
        "colab_type": "text"
      },
      "source": [
        "**Code below helps to take the best epoch amongst all and then evaluate the model based on it.**\n",
        "\n",
        "**This part of code holds the best epoch in the memory rather than saving it**"
      ]
    },
    {
      "cell_type": "code",
      "metadata": {
        "id": "VpGqIQxvFUYf",
        "colab_type": "code",
        "colab": {}
      },
      "source": [
        "# import numpy as np\n",
        "# from keras.callbacks import Callback\n",
        "# class GetBest(Callback):\n",
        "#     \"\"\"Get the best model at the end of training.\n",
        "# \t# Arguments\n",
        "#         monitor: quantity to monitor.\n",
        "#         verbose: verbosity mode, 0 or 1.\n",
        "#         mode: one of {auto, min, max}.\n",
        "#             The decision\n",
        "#             to overwrite the current stored weights is made\n",
        "#             based on either the maximization or the\n",
        "#             minimization of the monitored quantity. For `val_acc`,\n",
        "#             this should be `max`, for `val_loss` this should\n",
        "#             be `min`, etc. In `auto` mode, the direction is\n",
        "#             automatically inferred from the name of the monitored quantity.\n",
        "#         period: Interval (number of epochs) between checkpoints.\n",
        "# \t# Example\n",
        "# \t\tcallbacks = [GetBest(monitor='val_acc', verbose=1, mode='max')]\n",
        "# \t\tmode.fit(X, y, validation_data=(X_eval, Y_eval),\n",
        "#                  callbacks=callbacks)\n",
        "#     \"\"\"\n",
        "\n",
        "#     def __init__(self, monitor='val_loss', verbose=0,\n",
        "#                  mode='auto', period=1):\n",
        "#         super(GetBest, self).__init__()\n",
        "#         self.monitor = monitor\n",
        "#         self.verbose = verbose\n",
        "#         self.period = period\n",
        "#         self.best_epochs = 0\n",
        "#         self.epochs_since_last_save = 0\n",
        "\n",
        "#         if mode not in ['auto', 'min', 'max']:\n",
        "#             warnings.warn('GetBest mode %s is unknown, '\n",
        "#                           'fallback to auto mode.' % (mode),\n",
        "#                           RuntimeWarning)\n",
        "#             mode = 'auto'\n",
        "\n",
        "#         if mode == 'min':\n",
        "#             self.monitor_op = np.less\n",
        "#             self.best = np.Inf\n",
        "#         elif mode == 'max':\n",
        "#             self.monitor_op = np.greater\n",
        "#             self.best = -np.Inf\n",
        "#         else:\n",
        "#             if 'acc' in self.monitor or self.monitor.startswith('fmeasure'):\n",
        "#                 self.monitor_op = np.greater\n",
        "#                 self.best = -np.Inf\n",
        "#             else:\n",
        "#                 self.monitor_op = np.less\n",
        "#                 self.best = np.Inf\n",
        "                \n",
        "#     def on_train_begin(self, logs=None):\n",
        "#         self.best_weights = self.model.get_weights()\n",
        "\n",
        "#     def on_epoch_end(self, epoch, logs=None):\n",
        "#         logs = logs or {}\n",
        "#         self.epochs_since_last_save += 1\n",
        "#         if self.epochs_since_last_save >= self.period:\n",
        "#             self.epochs_since_last_save = 0\n",
        "#             #filepath = self.filepath.format(epoch=epoch + 1, **logs)\n",
        "#             current = logs.get(self.monitor)\n",
        "#             if current is None:\n",
        "#                 warnings.warn('Can pick best model only with %s available, '\n",
        "#                               'skipping.' % (self.monitor), RuntimeWarning)\n",
        "#             else:\n",
        "#                 if self.monitor_op(current, self.best):\n",
        "#                     if self.verbose > 0:\n",
        "#                         print('\\nEpoch %05d: %s improved from %0.5f to %0.5f,'\n",
        "#                               ' storing weights.'\n",
        "#                               % (epoch + 1, self.monitor, self.best,\n",
        "#                                  current))\n",
        "#                     self.best = current\n",
        "#                     self.best_epochs = epoch + 1\n",
        "#                     self.best_weights = self.model.get_weights()\n",
        "#                 else:\n",
        "#                     if self.verbose > 0:\n",
        "#                         print('\\nEpoch %05d: %s did not improve' %\n",
        "#                               (epoch + 1, self.monitor))            \n",
        "                    \n",
        "#     def on_train_end(self, logs=None):\n",
        "#         if self.verbose > 0:\n",
        "#             print('Using epoch %05d with %s: %0.5f' % (self.best_epochs, self.monitor,\n",
        "#                                                        self.best))\n",
        "#         self.model.set_weights(self.best_weights)"
      ],
      "execution_count": 0,
      "outputs": []
    },
    {
      "cell_type": "code",
      "metadata": {
        "id": "Zp6SuGrL9M3h",
        "colab_type": "code",
        "colab": {}
      },
      "source": [
        "# model.compile(loss='categorical_crossentropy',\n",
        "#              optimizer='adam',\n",
        "#              metrics=['accuracy'])"
      ],
      "execution_count": 0,
      "outputs": []
    },
    {
      "cell_type": "code",
      "metadata": {
        "id": "0iSOWpQrEACf",
        "colab_type": "code",
        "colab": {}
      },
      "source": [
        "#checkpoint = ModelCheckpoint('model-{epoch:03d}-{acc:03f}-{val_acc:03f}.h5', verbose=1, monitor='val_loss',save_best_only=True, mode='auto')"
      ],
      "execution_count": 0,
      "outputs": []
    },
    {
      "cell_type": "code",
      "metadata": {
        "id": "ob6NuipWAPsL",
        "colab_type": "code",
        "colab": {}
      },
      "source": [
        "from keras.optimizers import Adam\n",
        "from keras.callbacks import LearningRateScheduler\n",
        "def scheduler(epoch, lr):\n",
        "  return round(0.003 * 1/(1 + 0.319 * epoch), 10)\n",
        "\n",
        "model.compile(loss='categorical_crossentropy', optimizer=Adam(lr=0.003), metrics=['accuracy'])"
      ],
      "execution_count": 0,
      "outputs": []
    },
    {
      "cell_type": "code",
      "metadata": {
        "id": "FHkwdlAQoRN4",
        "colab_type": "code",
        "colab": {}
      },
      "source": [
        "from keras.callbacks import ReduceLROnPlateau, ModelCheckpoint\n",
        "\n",
        "checkpointer = ModelCheckpoint(filepath=\"/content/gdrive/My Drive/Colab Notebooks/model1.hdf5\", verbose=1, save_best_only=True, monitor=\"val_acc\")"
      ],
      "execution_count": 0,
      "outputs": []
    },
    {
      "cell_type": "code",
      "metadata": {
        "id": "JxHgnA_wJ4jq",
        "colab_type": "code",
        "colab": {}
      },
      "source": [
        "#callbacks = [GetBest(monitor='val_acc', verbose=1, mode='max'),LearningRateScheduler(scheduler, verbose=1)]\n",
        "callbacks = [checkpointer,LearningRateScheduler(scheduler, verbose=1)]"
      ],
      "execution_count": 0,
      "outputs": []
    },
    {
      "cell_type": "code",
      "metadata": {
        "id": "elxLVfbofIIU",
        "colab_type": "code",
        "colab": {}
      },
      "source": [
        "from keras.preprocessing.image import ImageDataGenerator\n",
        "datagen = ImageDataGenerator(featurewise_center=True, featurewise_std_normalization=True)\n",
        "testgen=ImageDataGenerator(featurewise_center=True, featurewise_std_normalization=True)"
      ],
      "execution_count": 0,
      "outputs": []
    },
    {
      "cell_type": "code",
      "metadata": {
        "id": "qWd4jp1ifN7W",
        "colab_type": "code",
        "colab": {}
      },
      "source": [
        "#Optional\n",
        "datagen.fit(X_train)\n",
        "testgen.fit(X_test)"
      ],
      "execution_count": 0,
      "outputs": []
    },
    {
      "cell_type": "code",
      "metadata": {
        "id": "3vb4CJDkf9G2",
        "colab_type": "code",
        "colab": {}
      },
      "source": [
        "train_generator =datagen.flow(X_train, Y_train, batch_size=128)\n",
        "test_generator=testgen.flow(X_test, Y_test,batch_size=128)"
      ],
      "execution_count": 0,
      "outputs": []
    },
    {
      "cell_type": "code",
      "metadata": {
        "id": "J9DuD3wAgoKj",
        "colab_type": "code",
        "outputId": "44dc8238-c784-49b5-8159-fb8ec6441daf",
        "colab": {
          "base_uri": "https://localhost:8080/",
          "height": 3917
        }
      },
      "source": [
        "history = model.fit_generator(train_generator,steps_per_epoch=len(X_train)//128, epochs =40 ,validation_data=test_generator,validation_steps=len(X_test)//128,callbacks=callbacks,verbose=1)"
      ],
      "execution_count": 0,
      "outputs": [
        {
          "output_type": "stream",
          "text": [
            "Epoch 1/40\n",
            "\n",
            "Epoch 00001: LearningRateScheduler setting learning rate to 0.003.\n",
            "468/468 [==============================] - 10s 22ms/step - loss: 0.4021 - acc: 0.9324 - val_loss: 0.1577 - val_acc: 0.9755\n",
            "\n",
            "Epoch 00001: val_acc improved from -inf to 0.97546, saving model to /content/gdrive/My Drive/Colab Notebooks/model1.hdf5\n",
            "Epoch 2/40\n",
            "\n",
            "Epoch 00002: LearningRateScheduler setting learning rate to 0.0022744503.\n",
            "468/468 [==============================] - 8s 16ms/step - loss: 0.1384 - acc: 0.9774 - val_loss: 0.0884 - val_acc: 0.9851\n",
            "\n",
            "Epoch 00002: val_acc improved from 0.97546 to 0.98511, saving model to /content/gdrive/My Drive/Colab Notebooks/model1.hdf5\n",
            "Epoch 3/40\n",
            "\n",
            "Epoch 00003: LearningRateScheduler setting learning rate to 0.0018315018.\n",
            "468/468 [==============================] - 8s 16ms/step - loss: 0.0994 - acc: 0.9823 - val_loss: 0.0792 - val_acc: 0.9856\n",
            "\n",
            "Epoch 00003: val_acc improved from 0.98511 to 0.98562, saving model to /content/gdrive/My Drive/Colab Notebooks/model1.hdf5\n",
            "Epoch 4/40\n",
            "\n",
            "Epoch 00004: LearningRateScheduler setting learning rate to 0.0015329586.\n",
            "468/468 [==============================] - 8s 16ms/step - loss: 0.0832 - acc: 0.9842 - val_loss: 0.0557 - val_acc: 0.9901\n",
            "\n",
            "Epoch 00004: val_acc improved from 0.98562 to 0.99007, saving model to /content/gdrive/My Drive/Colab Notebooks/model1.hdf5\n",
            "Epoch 5/40\n",
            "\n",
            "Epoch 00005: LearningRateScheduler setting learning rate to 0.0013181019.\n",
            "468/468 [==============================] - 8s 16ms/step - loss: 0.0735 - acc: 0.9864 - val_loss: 0.0508 - val_acc: 0.9904\n",
            "\n",
            "Epoch 00005: val_acc improved from 0.99007 to 0.99038, saving model to /content/gdrive/My Drive/Colab Notebooks/model1.hdf5\n",
            "Epoch 6/40\n",
            "\n",
            "Epoch 00006: LearningRateScheduler setting learning rate to 0.0011560694.\n",
            "468/468 [==============================] - 8s 16ms/step - loss: 0.0669 - acc: 0.9870 - val_loss: 0.0448 - val_acc: 0.9911\n",
            "\n",
            "Epoch 00006: val_acc improved from 0.99038 to 0.99109, saving model to /content/gdrive/My Drive/Colab Notebooks/model1.hdf5\n",
            "Epoch 7/40\n",
            "\n",
            "Epoch 00007: LearningRateScheduler setting learning rate to 0.0010295127.\n",
            "468/468 [==============================] - 8s 16ms/step - loss: 0.0622 - acc: 0.9879 - val_loss: 0.0440 - val_acc: 0.9917\n",
            "\n",
            "Epoch 00007: val_acc improved from 0.99109 to 0.99169, saving model to /content/gdrive/My Drive/Colab Notebooks/model1.hdf5\n",
            "Epoch 8/40\n",
            "\n",
            "Epoch 00008: LearningRateScheduler setting learning rate to 0.0009279307.\n",
            "468/468 [==============================] - 8s 16ms/step - loss: 0.0571 - acc: 0.9888 - val_loss: 0.0441 - val_acc: 0.9916\n",
            "\n",
            "Epoch 00008: val_acc did not improve from 0.99169\n",
            "Epoch 9/40\n",
            "\n",
            "Epoch 00009: LearningRateScheduler setting learning rate to 0.0008445946.\n",
            "468/468 [==============================] - 8s 16ms/step - loss: 0.0560 - acc: 0.9887 - val_loss: 0.0424 - val_acc: 0.9906\n",
            "\n",
            "Epoch 00009: val_acc did not improve from 0.99169\n",
            "Epoch 10/40\n",
            "\n",
            "Epoch 00010: LearningRateScheduler setting learning rate to 0.0007749935.\n",
            "468/468 [==============================] - 8s 16ms/step - loss: 0.0522 - acc: 0.9898 - val_loss: 0.0340 - val_acc: 0.9944\n",
            "\n",
            "Epoch 00010: val_acc improved from 0.99169 to 0.99443, saving model to /content/gdrive/My Drive/Colab Notebooks/model1.hdf5\n",
            "Epoch 11/40\n",
            "\n",
            "Epoch 00011: LearningRateScheduler setting learning rate to 0.0007159905.\n",
            "468/468 [==============================] - 8s 16ms/step - loss: 0.0489 - acc: 0.9903 - val_loss: 0.0380 - val_acc: 0.9918\n",
            "\n",
            "Epoch 00011: val_acc did not improve from 0.99443\n",
            "Epoch 12/40\n",
            "\n",
            "Epoch 00012: LearningRateScheduler setting learning rate to 0.000665336.\n",
            "468/468 [==============================] - 8s 16ms/step - loss: 0.0491 - acc: 0.9896 - val_loss: 0.0354 - val_acc: 0.9928\n",
            "\n",
            "Epoch 00012: val_acc did not improve from 0.99443\n",
            "Epoch 13/40\n",
            "\n",
            "Epoch 00013: LearningRateScheduler setting learning rate to 0.0006213753.\n",
            "468/468 [==============================] - 8s 16ms/step - loss: 0.0470 - acc: 0.9899 - val_loss: 0.0348 - val_acc: 0.9929\n",
            "\n",
            "Epoch 00013: val_acc did not improve from 0.99443\n",
            "Epoch 14/40\n",
            "\n",
            "Epoch 00014: LearningRateScheduler setting learning rate to 0.0005828638.\n",
            "468/468 [==============================] - 8s 16ms/step - loss: 0.0443 - acc: 0.9910 - val_loss: 0.0323 - val_acc: 0.9939\n",
            "\n",
            "Epoch 00014: val_acc did not improve from 0.99443\n",
            "Epoch 15/40\n",
            "\n",
            "Epoch 00015: LearningRateScheduler setting learning rate to 0.0005488474.\n",
            "468/468 [==============================] - 8s 16ms/step - loss: 0.0429 - acc: 0.9912 - val_loss: 0.0335 - val_acc: 0.9927\n",
            "\n",
            "Epoch 00015: val_acc did not improve from 0.99443\n",
            "Epoch 16/40\n",
            "\n",
            "Epoch 00016: LearningRateScheduler setting learning rate to 0.0005185825.\n",
            "468/468 [==============================] - 8s 16ms/step - loss: 0.0416 - acc: 0.9916 - val_loss: 0.0323 - val_acc: 0.9936\n",
            "\n",
            "Epoch 00016: val_acc did not improve from 0.99443\n",
            "Epoch 17/40\n",
            "\n",
            "Epoch 00017: LearningRateScheduler setting learning rate to 0.000491481.\n",
            "468/468 [==============================] - 8s 16ms/step - loss: 0.0412 - acc: 0.9916 - val_loss: 0.0308 - val_acc: 0.9936\n",
            "\n",
            "Epoch 00017: val_acc did not improve from 0.99443\n",
            "Epoch 18/40\n",
            "\n",
            "Epoch 00018: LearningRateScheduler setting learning rate to 0.0004670715.\n",
            "468/468 [==============================] - 8s 16ms/step - loss: 0.0403 - acc: 0.9918 - val_loss: 0.0332 - val_acc: 0.9925\n",
            "\n",
            "Epoch 00018: val_acc did not improve from 0.99443\n",
            "Epoch 19/40\n",
            "\n",
            "Epoch 00019: LearningRateScheduler setting learning rate to 0.0004449718.\n",
            "468/468 [==============================] - 8s 16ms/step - loss: 0.0411 - acc: 0.9912 - val_loss: 0.0337 - val_acc: 0.9927\n",
            "\n",
            "Epoch 00019: val_acc did not improve from 0.99443\n",
            "Epoch 20/40\n",
            "\n",
            "Epoch 00020: LearningRateScheduler setting learning rate to 0.000424869.\n",
            "468/468 [==============================] - 8s 16ms/step - loss: 0.0377 - acc: 0.9927 - val_loss: 0.0322 - val_acc: 0.9925\n",
            "\n",
            "Epoch 00020: val_acc did not improve from 0.99443\n",
            "Epoch 21/40\n",
            "\n",
            "Epoch 00021: LearningRateScheduler setting learning rate to 0.0004065041.\n",
            "468/468 [==============================] - 8s 16ms/step - loss: 0.0369 - acc: 0.9922 - val_loss: 0.0281 - val_acc: 0.9948\n",
            "\n",
            "Epoch 00021: val_acc improved from 0.99443 to 0.99483, saving model to /content/gdrive/My Drive/Colab Notebooks/model1.hdf5\n",
            "Epoch 22/40\n",
            "\n",
            "Epoch 00022: LearningRateScheduler setting learning rate to 0.000389661.\n",
            "468/468 [==============================] - 8s 16ms/step - loss: 0.0372 - acc: 0.9924 - val_loss: 0.0320 - val_acc: 0.9937\n",
            "\n",
            "Epoch 00022: val_acc did not improve from 0.99483\n",
            "Epoch 23/40\n",
            "\n",
            "Epoch 00023: LearningRateScheduler setting learning rate to 0.0003741581.\n",
            "468/468 [==============================] - 8s 16ms/step - loss: 0.0363 - acc: 0.9927 - val_loss: 0.0282 - val_acc: 0.9943\n",
            "\n",
            "Epoch 00023: val_acc did not improve from 0.99483\n",
            "Epoch 24/40\n",
            "\n",
            "Epoch 00024: LearningRateScheduler setting learning rate to 0.0003598417.\n",
            "468/468 [==============================] - 8s 16ms/step - loss: 0.0353 - acc: 0.9931 - val_loss: 0.0298 - val_acc: 0.9940\n",
            "\n",
            "Epoch 00024: val_acc did not improve from 0.99483\n",
            "Epoch 25/40\n",
            "\n",
            "Epoch 00025: LearningRateScheduler setting learning rate to 0.0003465804.\n",
            "468/468 [==============================] - 8s 16ms/step - loss: 0.0356 - acc: 0.9928 - val_loss: 0.0311 - val_acc: 0.9926\n",
            "\n",
            "Epoch 00025: val_acc did not improve from 0.99483\n",
            "Epoch 26/40\n",
            "\n",
            "Epoch 00026: LearningRateScheduler setting learning rate to 0.0003342618.\n",
            "468/468 [==============================] - 8s 16ms/step - loss: 0.0355 - acc: 0.9928 - val_loss: 0.0267 - val_acc: 0.9943\n",
            "\n",
            "Epoch 00026: val_acc did not improve from 0.99483\n",
            "Epoch 27/40\n",
            "\n",
            "Epoch 00027: LearningRateScheduler setting learning rate to 0.0003227889.\n",
            "468/468 [==============================] - 8s 16ms/step - loss: 0.0326 - acc: 0.9936 - val_loss: 0.0317 - val_acc: 0.9925\n",
            "\n",
            "Epoch 00027: val_acc did not improve from 0.99483\n",
            "Epoch 28/40\n",
            "\n",
            "Epoch 00028: LearningRateScheduler setting learning rate to 0.0003120774.\n",
            "468/468 [==============================] - 8s 16ms/step - loss: 0.0339 - acc: 0.9927 - val_loss: 0.0269 - val_acc: 0.9953\n",
            "\n",
            "Epoch 00028: val_acc improved from 0.99483 to 0.99534, saving model to /content/gdrive/My Drive/Colab Notebooks/model1.hdf5\n",
            "Epoch 29/40\n",
            "\n",
            "Epoch 00029: LearningRateScheduler setting learning rate to 0.000302054.\n",
            "468/468 [==============================] - 8s 16ms/step - loss: 0.0328 - acc: 0.9935 - val_loss: 0.0355 - val_acc: 0.9917\n",
            "\n",
            "Epoch 00029: val_acc did not improve from 0.99534\n",
            "Epoch 30/40\n",
            "\n",
            "Epoch 00030: LearningRateScheduler setting learning rate to 0.0002926544.\n",
            "468/468 [==============================] - 8s 16ms/step - loss: 0.0337 - acc: 0.9929 - val_loss: 0.0277 - val_acc: 0.9939\n",
            "\n",
            "Epoch 00030: val_acc did not improve from 0.99534\n",
            "Epoch 31/40\n",
            "\n",
            "Epoch 00031: LearningRateScheduler setting learning rate to 0.0002838221.\n",
            "468/468 [==============================] - 7s 16ms/step - loss: 0.0320 - acc: 0.9936 - val_loss: 0.0278 - val_acc: 0.9942\n",
            "\n",
            "Epoch 00031: val_acc did not improve from 0.99534\n",
            "Epoch 32/40\n",
            "\n",
            "Epoch 00032: LearningRateScheduler setting learning rate to 0.0002755074.\n",
            "468/468 [==============================] - 7s 16ms/step - loss: 0.0311 - acc: 0.9935 - val_loss: 0.0286 - val_acc: 0.9938\n",
            "\n",
            "Epoch 00032: val_acc did not improve from 0.99534\n",
            "Epoch 33/40\n",
            "\n",
            "Epoch 00033: LearningRateScheduler setting learning rate to 0.000267666.\n",
            "468/468 [==============================] - 7s 16ms/step - loss: 0.0307 - acc: 0.9939 - val_loss: 0.0254 - val_acc: 0.9945\n",
            "\n",
            "Epoch 00033: val_acc did not improve from 0.99534\n",
            "Epoch 34/40\n",
            "\n",
            "Epoch 00034: LearningRateScheduler setting learning rate to 0.0002602585.\n",
            "468/468 [==============================] - 8s 16ms/step - loss: 0.0314 - acc: 0.9937 - val_loss: 0.0283 - val_acc: 0.9945\n",
            "\n",
            "Epoch 00034: val_acc did not improve from 0.99534\n",
            "Epoch 35/40\n",
            "\n",
            "Epoch 00035: LearningRateScheduler setting learning rate to 0.00025325.\n",
            "468/468 [==============================] - 7s 16ms/step - loss: 0.0321 - acc: 0.9938 - val_loss: 0.0278 - val_acc: 0.9938\n",
            "\n",
            "Epoch 00035: val_acc did not improve from 0.99534\n",
            "Epoch 36/40\n",
            "\n",
            "Epoch 00036: LearningRateScheduler setting learning rate to 0.0002466091.\n",
            "468/468 [==============================] - 7s 16ms/step - loss: 0.0314 - acc: 0.9935 - val_loss: 0.0281 - val_acc: 0.9936\n",
            "\n",
            "Epoch 00036: val_acc did not improve from 0.99534\n",
            "Epoch 37/40\n",
            "\n",
            "Epoch 00037: LearningRateScheduler setting learning rate to 0.0002403076.\n",
            "468/468 [==============================] - 7s 16ms/step - loss: 0.0293 - acc: 0.9947 - val_loss: 0.0284 - val_acc: 0.9941\n",
            "\n",
            "Epoch 00037: val_acc did not improve from 0.99534\n",
            "Epoch 38/40\n",
            "\n",
            "Epoch 00038: LearningRateScheduler setting learning rate to 0.0002343201.\n",
            "468/468 [==============================] - 7s 16ms/step - loss: 0.0307 - acc: 0.9939 - val_loss: 0.0305 - val_acc: 0.9921\n",
            "\n",
            "Epoch 00038: val_acc did not improve from 0.99534\n",
            "Epoch 39/40\n",
            "\n",
            "Epoch 00039: LearningRateScheduler setting learning rate to 0.0002286237.\n",
            "468/468 [==============================] - 7s 16ms/step - loss: 0.0302 - acc: 0.9934 - val_loss: 0.0281 - val_acc: 0.9949\n",
            "\n",
            "Epoch 00039: val_acc did not improve from 0.99534\n",
            "Epoch 40/40\n",
            "\n",
            "Epoch 00040: LearningRateScheduler setting learning rate to 0.0002231977.\n",
            "468/468 [==============================] - 8s 16ms/step - loss: 0.0296 - acc: 0.9941 - val_loss: 0.0283 - val_acc: 0.9936\n",
            "\n",
            "Epoch 00040: val_acc did not improve from 0.99534\n"
          ],
          "name": "stdout"
        }
      ]
    },
    {
      "cell_type": "code",
      "metadata": {
        "id": "ZucFoW4subuB",
        "colab_type": "code",
        "colab": {}
      },
      "source": [
        "# load the model after 16 hours\n",
        "from keras.models import load_model\n",
        "saved_model = load_model(\"/content/gdrive/My Drive/Colab Notebooks/model1.hdf5\")"
      ],
      "execution_count": 0,
      "outputs": []
    },
    {
      "cell_type": "code",
      "metadata": {
        "id": "4AHKHtcPmn7X",
        "colab_type": "code",
        "colab": {}
      },
      "source": [
        "#Prediction\n",
        "# pred=saved_model.predict_generator(test_generator, steps= np.ceil(10000/256), verbose=1)\n",
        "# predicted_class_indices=np.argmax(pred,axis=1)\n"
      ],
      "execution_count": 0,
      "outputs": []
    },
    {
      "cell_type": "code",
      "metadata": {
        "id": "Sbs7ISbnRWLu",
        "colab_type": "code",
        "colab": {}
      },
      "source": [
        "#df1=pd.DataFrame(predicted_class_indices,columns=\"Pred\")"
      ],
      "execution_count": 0,
      "outputs": []
    },
    {
      "cell_type": "code",
      "metadata": {
        "id": "M_oREoShRizg",
        "colab_type": "code",
        "colab": {}
      },
      "source": [
        "# pd1.shape"
      ],
      "execution_count": 0,
      "outputs": []
    },
    {
      "cell_type": "code",
      "metadata": {
        "id": "3EwKVkp-Lx1t",
        "colab_type": "code",
        "colab": {}
      },
      "source": [
        "# len(predicted_class_indices)"
      ],
      "execution_count": 0,
      "outputs": []
    },
    {
      "cell_type": "code",
      "metadata": {
        "id": "4zqv83s_mpWp",
        "colab_type": "code",
        "colab": {}
      },
      "source": [
        "# Predicted class indices of 1st 10 val images\n",
        "# predicted_class_indices[:10]"
      ],
      "execution_count": 0,
      "outputs": []
    },
    {
      "cell_type": "code",
      "metadata": {
        "id": "KN4y2bHfmpU8",
        "colab_type": "code",
        "colab": {}
      },
      "source": [
        "# True class indices of 1st 10 val images\n",
        "# test_generator.y[:10]"
      ],
      "execution_count": 0,
      "outputs": []
    },
    {
      "cell_type": "code",
      "metadata": {
        "id": "3hvHipw-mpSs",
        "colab_type": "code",
        "colab": {}
      },
      "source": [
        "# d=y_test"
      ],
      "execution_count": 0,
      "outputs": []
    },
    {
      "cell_type": "code",
      "metadata": {
        "id": "F6xXhMuhJRnJ",
        "colab_type": "code",
        "colab": {}
      },
      "source": [
        "# df = pd.DataFrame(data=d,columns=\"true\")"
      ],
      "execution_count": 0,
      "outputs": []
    },
    {
      "cell_type": "code",
      "metadata": {
        "id": "3jqqBlgiJzcC",
        "colab_type": "code",
        "colab": {}
      },
      "source": [
        "# df.shape"
      ],
      "execution_count": 0,
      "outputs": []
    },
    {
      "cell_type": "code",
      "metadata": {
        "id": "73qlC7QLmpQc",
        "colab_type": "code",
        "colab": {}
      },
      "source": [
        "#  from sklearn.metrics import classification_report\n",
        "# print(classification_report(y_test, predicted_class_indices))"
      ],
      "execution_count": 0,
      "outputs": []
    },
    {
      "cell_type": "code",
      "metadata": {
        "id": "Wwc43Cc5mpML",
        "colab_type": "code",
        "colab": {}
      },
      "source": [
        "# import pandas as pd\n",
        "# d = {'pred': model.predict_generator(test_generator, steps=np.ceil(10000/256), verbose=1), 'true': np.argmax(y_test,axis=1)} #axis=1!important!\n",
        "# df = pd.DataFrame(data=d)\n",
        "\n",
        "# #looking at wrong predicted values(For 1! you can change it.)\n",
        "# #array1 = np.array(df[(df.pred != df.true) & (df.true==1)].index)\n",
        "# #print(array1)\n",
        "\n",
        "# # shows total mistakes\n",
        "# df2 = df[(df.pred != df.true)]\n",
        "# df2\n",
        "\n",
        "# df2.shape"
      ],
      "execution_count": 0,
      "outputs": []
    },
    {
      "cell_type": "code",
      "metadata": {
        "id": "YhZHp_ZXa7BY",
        "colab_type": "code",
        "colab": {}
      },
      "source": [
        "iterator = datagen.flow(X_test, Y_test, batch_size=1024, shuffle=False)\n",
        "predictions = saved_model.predict_generator(iterator,steps=len(iterator))"
      ],
      "execution_count": 0,
      "outputs": []
    },
    {
      "cell_type": "code",
      "metadata": {
        "id": "f-HZWRdOiHPi",
        "colab_type": "code",
        "outputId": "6eb5a1bf-b56d-4f16-e3e8-488ea8b48c85",
        "colab": {
          "base_uri": "https://localhost:8080/",
          "height": 245
        }
      },
      "source": [
        "print(predictions)\n",
        "len(predictions[1])"
      ],
      "execution_count": 0,
      "outputs": [
        {
          "output_type": "stream",
          "text": [
            "[[1.5611633e-05 3.3720869e-05 3.2331443e-06 ... 9.9988186e-01\n",
            "  5.0048516e-06 2.7240246e-06]\n",
            " [2.1504968e-05 4.4949000e-05 9.9972361e-01 ... 6.0321290e-06\n",
            "  1.5878521e-06 1.1852381e-06]\n",
            " [2.7455044e-05 9.9961722e-01 1.1690391e-05 ... 7.0553404e-05\n",
            "  1.4089716e-05 2.7454522e-05]\n",
            " ...\n",
            " [2.9236001e-06 4.1120675e-06 1.4580637e-06 ... 4.4161675e-06\n",
            "  3.0730307e-06 3.7008942e-06]\n",
            " [8.6329230e-05 2.3143830e-06 5.1249576e-06 ... 1.2960641e-06\n",
            "  1.2321958e-04 2.3217677e-05]\n",
            " [1.8618886e-05 8.6502332e-06 1.3846777e-04 ... 2.5013198e-05\n",
            "  3.1706273e-05 3.5292800e-05]]\n"
          ],
          "name": "stdout"
        },
        {
          "output_type": "execute_result",
          "data": {
            "text/plain": [
              "10"
            ]
          },
          "metadata": {
            "tags": []
          },
          "execution_count": 78
        }
      ]
    },
    {
      "cell_type": "code",
      "metadata": {
        "id": "8As18RFWbvNS",
        "colab_type": "code",
        "colab": {}
      },
      "source": [
        "def get_mnist_labels():\n",
        "    return list(range(0, 10))"
      ],
      "execution_count": 0,
      "outputs": []
    },
    {
      "cell_type": "markdown",
      "metadata": {
        "id": "RC7SfL-EzV0p",
        "colab_type": "text"
      },
      "source": [
        "**Code to get misclassified Images**"
      ]
    },
    {
      "cell_type": "code",
      "metadata": {
        "id": "PA9iLFrtmpJ4",
        "colab_type": "code",
        "colab": {}
      },
      "source": [
        "def show_misclassified(X, Y_ohe, Y_pred, classes,\n",
        "                       columns=5, total=25,\n",
        "                       pick_randomly=True, image_size_multiplier=4):\n",
        "    y_true = np.argmax(Y_ohe, axis=1)\n",
        "    print(\"True Value\",y_true)\n",
        "    yp = np.argmax(Y_pred, axis=1)\n",
        "    print(\"predicted Values\",yp)\n",
        "    a=list(y_true)\n",
        "    b=list(yp)\n",
        "    counter=0\n",
        "    for i in range(len(y_true)):\n",
        "      if(a[i] != b[i]):\n",
        "        counter=counter+1\n",
        "    print(\"No of Misclassified Images from test dataset\",counter)\n",
        "    misclassified = y_true != yp\n",
        "    \n",
        "    X = X[misclassified]\n",
        "    Y_ohe = Y_ohe[misclassified]\n",
        "    Y_pred = Y_pred[misclassified]\n",
        "    y_true = y_true[misclassified]\n",
        "    yp = yp[misclassified]\n",
        "    total = min(total, len(X))\n",
        "    rows = int(np.ceil(total / columns))\n",
        "\n",
        "    indexes = np.random.choice(len(X), total, replace=False) if pick_randomly else list(range(0, total))\n",
        "\n",
        "    X = np.take(X, indexes, axis=0)\n",
        "    Y_ohe = np.take(Y_ohe, indexes, axis=0)\n",
        "    Y_pred = np.take(Y_pred, indexes, axis=0)\n",
        "    y_true = np.take(y_true, indexes, axis=0)\n",
        "    yp = np.take(yp, indexes, axis=0)\n",
        "\n",
        "    fig_height = rows * image_size_multiplier * 2\n",
        "    fig_width = columns * image_size_multiplier\n",
        "\n",
        "    fig = plt.figure(figsize=(fig_width, fig_height))\n",
        "    idx1 = 0\n",
        "    idx2 = 0\n",
        "    jdx = 0\n",
        "    for row in range(rows):\n",
        "        for column in range(columns):\n",
        "            if idx1 >= len(X):\n",
        "                break\n",
        "            img = X[idx1]\n",
        "            assert (len(img.shape) == 3 and img.shape[2] in [1, 3, 4]) or len(img.shape) == 2\n",
        "            ax = fig.add_subplot(rows * 2, columns, jdx + 1, xticks=[], yticks=[])\n",
        "            cmap = None\n",
        "            if (len(img.shape) == 3 and img.shape[2] == 1) or len(img.shape) == 2:\n",
        "                cmap = \"binary\"\n",
        "            if len(img.shape) == 3 and img.shape[2] == 1:\n",
        "                img = img.reshape((img.shape[0], img.shape[1]))\n",
        "            ax.imshow(img, cmap=cmap)\n",
        "            ax.set_title(\"Predicted = %s, Actual = %s\" % (classes[yp[idx1]], classes[y_true[idx1]]))\n",
        "            idx1 += 1\n",
        "            jdx += 1\n",
        "\n",
        "#         for column in range(columns):\n",
        "#             if idx2 >= len(Y_pred):\n",
        "#                 break\n",
        "#             yps = Y_pred[idx2]\n",
        "#             ax = fig.add_subplot(rows * 2, columns, jdx + 1, xticks=[], yticks=[])\n",
        "#             ind = np.arange(len(classes))\n",
        "#             rects = ax.bar(ind, yps, 0.25, label='Labels')\n",
        "#             ax.set_ylabel('Probability')\n",
        "#             ax.set_yticks(np.arange(0, 1.2, 0.2))\n",
        "#             ax.set_title('Probability vs Labels')\n",
        "#             ax.set_xticks(ind)\n",
        "#             ax.set_xticklabels(classes)\n",
        "#             ax.legend()\n",
        "#             idx2 += 1\n",
        "#             jdx += 1\n",
        "    plt.show()"
      ],
      "execution_count": 0,
      "outputs": []
    },
    {
      "cell_type": "code",
      "metadata": {
        "id": "wqEC6feymo8Y",
        "colab_type": "code",
        "outputId": "0fbb5116-1f49-4239-a4ed-0684fd4a4161",
        "colab": {
          "base_uri": "https://localhost:8080/",
          "height": 1168
        }
      },
      "source": [
        "show_misclassified(X_test, Y_test, predictions[:len(Y_test)], classes=get_mnist_labels(), \n",
        "                       columns=5, total=25, \n",
        "                       pick_randomly=True, image_size_multiplier=4)"
      ],
      "execution_count": 0,
      "outputs": [
        {
          "output_type": "stream",
          "text": [
            "True Value [7 2 1 ... 4 5 6]\n",
            "predicted Values [7 2 1 ... 4 5 6]\n",
            "No of Misclassified Images from test dataset 57\n"
          ],
          "name": "stdout"
        },
        {
          "output_type": "display_data",
          "data": {
            "image/png": "[encoded data removed]",
            "text/plain": [
              "<Figure size 1440x2880 with 25 Axes>"
            ]
          },
          "metadata": {
            "tags": []
          }
        }
      ]
    },
    {
      "cell_type": "code",
      "metadata": {
        "id": "9tvptcn8dxvp",
        "colab_type": "code",
        "colab": {}
      },
      "source": [
        ""
      ],
      "execution_count": 0,
      "outputs": []
    }
  ]
}