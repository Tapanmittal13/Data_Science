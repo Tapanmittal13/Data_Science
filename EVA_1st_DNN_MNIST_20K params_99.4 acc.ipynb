{
  "nbformat": 4,
  "nbformat_minor": 0,
  "metadata": {
    "colab": {
      "name": "EVA_1st DNN.ipynb",
      "provenance": [],
      "collapsed_sections": [],
      "include_colab_link": true
    },
    "kernelspec": {
      "name": "python3",
      "display_name": "Python 3"
    },
    "accelerator": "GPU"
  },
  "cells": [
    {
      "cell_type": "markdown",
      "metadata": {
        "id": "view-in-github",
        "colab_type": "text"
      },
      "source": [
        "<a href=\"https://colab.research.google.com/github/Tapanmittal13/Data_Science/blob/master/EVA_1st_DNN_MNIST_20K%20params_99.4%20acc.ipynb\" target=\"_parent\"><img src=\"https://colab.research.google.com/assets/colab-badge.svg\" alt=\"Open In Colab\"/></a>"
      ]
    },
    {
      "cell_type": "markdown",
      "metadata": {
        "id": "aNyZv-Ec52ot",
        "colab_type": "text"
      },
      "source": [
        "# **Import Libraries and modules**"
      ]
    },
    {
      "cell_type": "code",
      "metadata": {
        "id": "3m3w1Cw49Zkt",
        "colab_type": "code",
        "colab": {}
      },
      "source": [
        "# https://keras.io/\n",
        "!pip install -q keras\n",
        "import keras"
      ],
      "execution_count": 0,
      "outputs": []
    },
    {
      "cell_type": "code",
      "metadata": {
        "id": "Eso6UHE080D4",
        "colab_type": "code",
        "colab": {}
      },
      "source": [
        "import numpy as np\n",
        "\n",
        "from keras.models import Sequential\n",
        "from keras.layers import Dense, Dropout, Activation, Flatten, Add\n",
        "from keras.layers import Convolution2D, MaxPooling2D\n",
        "from keras.utils import np_utils\n",
        "from keras.layers.normalization import BatchNormalization\n",
        "from keras.datasets import mnist"
      ],
      "execution_count": 0,
      "outputs": []
    },
    {
      "cell_type": "markdown",
      "metadata": {
        "id": "zByEi95J86RD",
        "colab_type": "text"
      },
      "source": [
        "### Load pre-shuffled MNIST data into train and test sets"
      ]
    },
    {
      "cell_type": "code",
      "metadata": {
        "id": "7eRM0QWN83PV",
        "colab_type": "code",
        "colab": {}
      },
      "source": [
        "(X_train, y_train), (X_test, y_test) = mnist.load_data()"
      ],
      "execution_count": 0,
      "outputs": []
    },
    {
      "cell_type": "code",
      "metadata": {
        "id": "4a4Be72j8-ZC",
        "colab_type": "code",
        "outputId": "75c40ca8-e9ce-4172-dbc5-52b6db7ea275",
        "colab": {
          "base_uri": "https://localhost:8080/",
          "height": 302
        }
      },
      "source": [
        "print (X_train.shape)\n",
        "from matplotlib import pyplot as plt\n",
        "%matplotlib inline\n",
        "plt.imshow(X_train[0])"
      ],
      "execution_count": 0,
      "outputs": [
        {
          "output_type": "stream",
          "text": [
            "(60000, 28, 28)\n"
          ],
          "name": "stdout"
        },
        {
          "output_type": "execute_result",
          "data": {
            "text/plain": [
              "<matplotlib.image.AxesImage at 0x7f6c338f62b0>"
            ]
          },
          "metadata": {
            "tags": []
          },
          "execution_count": 33
        },
        {
          "output_type": "display_data",
          "data": {
            "image/png": "[encoded data removed]",
            "text/plain": [
              "<Figure size 432x288 with 1 Axes>"
            ]
          },
          "metadata": {
            "tags": []
          }
        }
      ]
    },
    {
      "cell_type": "code",
      "metadata": {
        "id": "dkmprriw9AnZ",
        "colab_type": "code",
        "colab": {}
      },
      "source": [
        "X_train = X_train.reshape(X_train.shape[0], 28, 28,1)\n",
        "X_test = X_test.reshape(X_test.shape[0], 28, 28,1)"
      ],
      "execution_count": 0,
      "outputs": []
    },
    {
      "cell_type": "code",
      "metadata": {
        "id": "X2m4YS4E9CRh",
        "colab_type": "code",
        "colab": {}
      },
      "source": [
        "X_train = X_train.astype('float32')\n",
        "X_test = X_test.astype('float32')\n",
        "X_train /= 255\n",
        "X_test /= 255"
      ],
      "execution_count": 0,
      "outputs": []
    },
    {
      "cell_type": "code",
      "metadata": {
        "id": "0Mn0vAYD9DvB",
        "colab_type": "code",
        "outputId": "97993288-7449-4bf4-ca9d-ffd3dbcf8324",
        "colab": {
          "base_uri": "https://localhost:8080/",
          "height": 33
        }
      },
      "source": [
        "y_train[:10]"
      ],
      "execution_count": 0,
      "outputs": [
        {
          "output_type": "execute_result",
          "data": {
            "text/plain": [
              "array([5, 0, 4, 1, 9, 2, 1, 3, 1, 4], dtype=uint8)"
            ]
          },
          "metadata": {
            "tags": []
          },
          "execution_count": 36
        }
      ]
    },
    {
      "cell_type": "code",
      "metadata": {
        "id": "ZG8JiXR39FHC",
        "colab_type": "code",
        "colab": {}
      },
      "source": [
        "# Convert 1-dimensional class arrays to 10-dimensional class matrices\n",
        "Y_train = np_utils.to_categorical(y_train, 10)\n",
        "Y_test = np_utils.to_categorical(y_test, 10)"
      ],
      "execution_count": 0,
      "outputs": []
    },
    {
      "cell_type": "code",
      "metadata": {
        "id": "fYlFRvKS9HMB",
        "colab_type": "code",
        "outputId": "86a66fd7-7168-4d4a-cf69-2c42d8fbb78b",
        "colab": {
          "base_uri": "https://localhost:8080/",
          "height": 180
        }
      },
      "source": [
        "Y_train[:10]\n"
      ],
      "execution_count": 0,
      "outputs": [
        {
          "output_type": "execute_result",
          "data": {
            "text/plain": [
              "array([[0., 0., 0., 0., 0., 1., 0., 0., 0., 0.],\n",
              "       [1., 0., 0., 0., 0., 0., 0., 0., 0., 0.],\n",
              "       [0., 0., 0., 0., 1., 0., 0., 0., 0., 0.],\n",
              "       [0., 1., 0., 0., 0., 0., 0., 0., 0., 0.],\n",
              "       [0., 0., 0., 0., 0., 0., 0., 0., 0., 1.],\n",
              "       [0., 0., 1., 0., 0., 0., 0., 0., 0., 0.],\n",
              "       [0., 1., 0., 0., 0., 0., 0., 0., 0., 0.],\n",
              "       [0., 0., 0., 1., 0., 0., 0., 0., 0., 0.],\n",
              "       [0., 1., 0., 0., 0., 0., 0., 0., 0., 0.],\n",
              "       [0., 0., 0., 0., 1., 0., 0., 0., 0., 0.]], dtype=float32)"
            ]
          },
          "metadata": {
            "tags": []
          },
          "execution_count": 38
        }
      ]
    },
    {
      "cell_type": "code",
      "metadata": {
        "id": "TT3y5wmHuXRV",
        "colab_type": "code",
        "colab": {}
      },
      "source": [
        "from keras.layers import Activation\n",
        "#from keras.layers.normalization import BatchNormalization\n",
        "model = Sequential()\n",
        "model.add(Convolution2D(16,3,activation='relu', input_shape=(28,28,1)))\n",
        "#model.add(MaxPooling2D(2,2))\n",
        "model.add(Convolution2D(32,3,activation='relu'))\n",
        "model.add(Dropout(0.4))\n",
        "model.add(BatchNormalization())\n",
        "model.add(MaxPooling2D(2,2))\n",
        "\n",
        "model.add(Convolution2D(32,3,activation='relu'))\n",
        "#model.add(Convolution2D(64, 3, activation='relu'))\n",
        "model.add(Dropout(0.4))\n",
        "model.add(BatchNormalization())\n",
        "model.add(Convolution2D(13,1,activation='relu'))\n",
        "#model.add(BatchNormalization())\n",
        "model.add(MaxPooling2D(2,2))\n",
        "model.add(Convolution2D(10,5))\n",
        "model.add(Flatten())\n",
        "model.add(Activation('softmax'))"
      ],
      "execution_count": 0,
      "outputs": []
    },
    {
      "cell_type": "code",
      "metadata": {
        "id": "TzdAYg1k9K7Z",
        "colab_type": "code",
        "outputId": "e2cd2b72-4c6f-4b71-aef7-849ccaa8df34",
        "colab": {
          "base_uri": "https://localhost:8080/",
          "height": 553
        }
      },
      "source": [
        "model.summary()"
      ],
      "execution_count": 0,
      "outputs": [
        {
          "output_type": "stream",
          "text": [
            "_________________________________________________________________\n",
            "Layer (type)                 Output Shape              Param #   \n",
            "=================================================================\n",
            "conv2d_18 (Conv2D)           (None, 26, 26, 16)        160       \n",
            "_________________________________________________________________\n",
            "conv2d_19 (Conv2D)           (None, 24, 24, 32)        4640      \n",
            "_________________________________________________________________\n",
            "dropout_4 (Dropout)          (None, 24, 24, 32)        0         \n",
            "_________________________________________________________________\n",
            "batch_normalization_8 (Batch (None, 24, 24, 32)        128       \n",
            "_________________________________________________________________\n",
            "max_pooling2d_5 (MaxPooling2 (None, 12, 12, 32)        0         \n",
            "_________________________________________________________________\n",
            "conv2d_20 (Conv2D)           (None, 10, 10, 32)        9248      \n",
            "_________________________________________________________________\n",
            "dropout_5 (Dropout)          (None, 10, 10, 32)        0         \n",
            "_________________________________________________________________\n",
            "batch_normalization_9 (Batch (None, 10, 10, 32)        128       \n",
            "_________________________________________________________________\n",
            "conv2d_21 (Conv2D)           (None, 10, 10, 13)        429       \n",
            "_________________________________________________________________\n",
            "max_pooling2d_6 (MaxPooling2 (None, 5, 5, 13)          0         \n",
            "_________________________________________________________________\n",
            "conv2d_22 (Conv2D)           (None, 1, 1, 10)          3260      \n",
            "_________________________________________________________________\n",
            "flatten_3 (Flatten)          (None, 10)                0         \n",
            "_________________________________________________________________\n",
            "activation_3 (Activation)    (None, 10)                0         \n",
            "=================================================================\n",
            "Total params: 17,993\n",
            "Trainable params: 17,865\n",
            "Non-trainable params: 128\n",
            "_________________________________________________________________\n"
          ],
          "name": "stdout"
        }
      ]
    },
    {
      "cell_type": "code",
      "metadata": {
        "id": "Zp6SuGrL9M3h",
        "colab_type": "code",
        "colab": {}
      },
      "source": [
        "model.compile(loss='categorical_crossentropy',\n",
        "             optimizer='adam',\n",
        "             metrics=['accuracy'])"
      ],
      "execution_count": 0,
      "outputs": []
    },
    {
      "cell_type": "code",
      "metadata": {
        "id": "4xWoKhPY9Of5",
        "colab_type": "code",
        "outputId": "3ace8020-90c8-4bc7-c5a2-fb37dd3672bd",
        "colab": {
          "base_uri": "https://localhost:8080/",
          "height": 1707
        }
      },
      "source": [
        "model.fit(X_train, Y_train, batch_size=32, nb_epoch=50,validation_split=0.2, verbose=1)"
      ],
      "execution_count": 0,
      "outputs": [
        {
          "output_type": "stream",
          "text": [
            "/usr/local/lib/python3.6/dist-packages/ipykernel_launcher.py:1: UserWarning: The `nb_epoch` argument in `fit` has been renamed `epochs`.\n",
            "  \"\"\"Entry point for launching an IPython kernel.\n"
          ],
          "name": "stderr"
        },
        {
          "output_type": "stream",
          "text": [
            "Train on 48000 samples, validate on 12000 samples\n",
            "Epoch 1/50\n",
            "48000/48000 [==============================] - 20s 413us/step - loss: 0.2519 - acc: 0.9223 - val_loss: 0.1051 - val_acc: 0.9750\n",
            "Epoch 2/50\n",
            "48000/48000 [==============================] - 19s 395us/step - loss: 0.0838 - acc: 0.9737 - val_loss: 0.0747 - val_acc: 0.9798\n",
            "Epoch 3/50\n",
            "48000/48000 [==============================] - 19s 394us/step - loss: 0.0648 - acc: 0.9796 - val_loss: 0.0535 - val_acc: 0.9866\n",
            "Epoch 4/50\n",
            "48000/48000 [==============================] - 19s 395us/step - loss: 0.0554 - acc: 0.9830 - val_loss: 0.0713 - val_acc: 0.9835\n",
            "Epoch 5/50\n",
            "48000/48000 [==============================] - 19s 395us/step - loss: 0.0478 - acc: 0.9852 - val_loss: 0.0685 - val_acc: 0.9842\n",
            "Epoch 6/50\n",
            "48000/48000 [==============================] - 19s 396us/step - loss: 0.0444 - acc: 0.9859 - val_loss: 0.0554 - val_acc: 0.9871\n",
            "Epoch 7/50\n",
            "48000/48000 [==============================] - 19s 398us/step - loss: 0.0434 - acc: 0.9864 - val_loss: 0.0443 - val_acc: 0.9891\n",
            "Epoch 8/50\n",
            "48000/48000 [==============================] - 19s 397us/step - loss: 0.0381 - acc: 0.9877 - val_loss: 0.0419 - val_acc: 0.9893\n",
            "Epoch 9/50\n",
            "48000/48000 [==============================] - 19s 400us/step - loss: 0.0379 - acc: 0.9873 - val_loss: 0.0424 - val_acc: 0.9902\n",
            "Epoch 10/50\n",
            "48000/48000 [==============================] - 19s 397us/step - loss: 0.0359 - acc: 0.9885 - val_loss: 0.0401 - val_acc: 0.9902\n",
            "Epoch 11/50\n",
            "48000/48000 [==============================] - 19s 395us/step - loss: 0.0348 - acc: 0.9884 - val_loss: 0.0396 - val_acc: 0.9903\n",
            "Epoch 12/50\n",
            "48000/48000 [==============================] - 19s 396us/step - loss: 0.0323 - acc: 0.9897 - val_loss: 0.0442 - val_acc: 0.9903\n",
            "Epoch 13/50\n",
            "48000/48000 [==============================] - 19s 397us/step - loss: 0.0306 - acc: 0.9896 - val_loss: 0.0511 - val_acc: 0.9879\n",
            "Epoch 14/50\n",
            "48000/48000 [==============================] - 19s 401us/step - loss: 0.0317 - acc: 0.9894 - val_loss: 0.0382 - val_acc: 0.9899\n",
            "Epoch 15/50\n",
            "48000/48000 [==============================] - 19s 403us/step - loss: 0.0290 - acc: 0.9905 - val_loss: 0.0381 - val_acc: 0.9912\n",
            "Epoch 16/50\n",
            "48000/48000 [==============================] - 19s 399us/step - loss: 0.0292 - acc: 0.9905 - val_loss: 0.0376 - val_acc: 0.9914\n",
            "Epoch 17/50\n",
            "48000/48000 [==============================] - 19s 398us/step - loss: 0.0274 - acc: 0.9906 - val_loss: 0.0322 - val_acc: 0.9922\n",
            "Epoch 18/50\n",
            "48000/48000 [==============================] - 19s 399us/step - loss: 0.0283 - acc: 0.9906 - val_loss: 0.0413 - val_acc: 0.9896\n",
            "Epoch 19/50\n",
            "48000/48000 [==============================] - 19s 398us/step - loss: 0.0255 - acc: 0.9913 - val_loss: 0.0364 - val_acc: 0.9916\n",
            "Epoch 20/50\n",
            "48000/48000 [==============================] - 19s 398us/step - loss: 0.0274 - acc: 0.9911 - val_loss: 0.0362 - val_acc: 0.9910\n",
            "Epoch 21/50\n",
            "48000/48000 [==============================] - 19s 396us/step - loss: 0.0251 - acc: 0.9918 - val_loss: 0.0362 - val_acc: 0.9928\n",
            "Epoch 22/50\n",
            "48000/48000 [==============================] - 19s 397us/step - loss: 0.0240 - acc: 0.9922 - val_loss: 0.0309 - val_acc: 0.9925\n",
            "Epoch 23/50\n",
            "48000/48000 [==============================] - 19s 398us/step - loss: 0.0239 - acc: 0.9921 - val_loss: 0.0432 - val_acc: 0.9880\n",
            "Epoch 24/50\n",
            "48000/48000 [==============================] - 19s 397us/step - loss: 0.0227 - acc: 0.9924 - val_loss: 0.0347 - val_acc: 0.9926\n",
            "Epoch 25/50\n",
            "48000/48000 [==============================] - 19s 396us/step - loss: 0.0218 - acc: 0.9926 - val_loss: 0.0383 - val_acc: 0.9908\n",
            "Epoch 26/50\n",
            "48000/48000 [==============================] - 19s 396us/step - loss: 0.0247 - acc: 0.9916 - val_loss: 0.0333 - val_acc: 0.9914\n",
            "Epoch 27/50\n",
            "48000/48000 [==============================] - 19s 397us/step - loss: 0.0219 - acc: 0.9925 - val_loss: 0.0322 - val_acc: 0.9928\n",
            "Epoch 28/50\n",
            "48000/48000 [==============================] - 19s 397us/step - loss: 0.0219 - acc: 0.9927 - val_loss: 0.0331 - val_acc: 0.9916\n",
            "Epoch 29/50\n",
            "48000/48000 [==============================] - 19s 397us/step - loss: 0.0219 - acc: 0.9928 - val_loss: 0.0335 - val_acc: 0.9917\n",
            "Epoch 30/50\n",
            "48000/48000 [==============================] - 19s 396us/step - loss: 0.0220 - acc: 0.9927 - val_loss: 0.0310 - val_acc: 0.9925\n",
            "Epoch 31/50\n",
            "48000/48000 [==============================] - 19s 397us/step - loss: 0.0212 - acc: 0.9925 - val_loss: 0.0307 - val_acc: 0.9928\n",
            "Epoch 32/50\n",
            "48000/48000 [==============================] - 19s 396us/step - loss: 0.0193 - acc: 0.9937 - val_loss: 0.0297 - val_acc: 0.9933\n",
            "Epoch 33/50\n",
            "48000/48000 [==============================] - 19s 398us/step - loss: 0.0202 - acc: 0.9930 - val_loss: 0.0307 - val_acc: 0.9919\n",
            "Epoch 34/50\n",
            "48000/48000 [==============================] - 19s 397us/step - loss: 0.0186 - acc: 0.9933 - val_loss: 0.0302 - val_acc: 0.9925\n",
            "Epoch 35/50\n",
            "48000/48000 [==============================] - 19s 395us/step - loss: 0.0180 - acc: 0.9937 - val_loss: 0.0354 - val_acc: 0.9919\n",
            "Epoch 36/50\n",
            "48000/48000 [==============================] - 19s 395us/step - loss: 0.0194 - acc: 0.9929 - val_loss: 0.0387 - val_acc: 0.9898\n",
            "Epoch 37/50\n",
            "48000/48000 [==============================] - 19s 396us/step - loss: 0.0192 - acc: 0.9932 - val_loss: 0.0303 - val_acc: 0.9921\n",
            "Epoch 38/50\n",
            "48000/48000 [==============================] - 19s 395us/step - loss: 0.0202 - acc: 0.9932 - val_loss: 0.0312 - val_acc: 0.9921\n",
            "Epoch 39/50\n",
            "48000/48000 [==============================] - 19s 396us/step - loss: 0.0189 - acc: 0.9935 - val_loss: 0.0336 - val_acc: 0.9905\n",
            "Epoch 40/50\n",
            "48000/48000 [==============================] - 19s 391us/step - loss: 0.0167 - acc: 0.9947 - val_loss: 0.0292 - val_acc: 0.9931\n",
            "Epoch 41/50\n",
            "48000/48000 [==============================] - 19s 390us/step - loss: 0.0176 - acc: 0.9939 - val_loss: 0.0297 - val_acc: 0.9928\n",
            "Epoch 42/50\n",
            "48000/48000 [==============================] - 19s 390us/step - loss: 0.0181 - acc: 0.9941 - val_loss: 0.0320 - val_acc: 0.9917\n",
            "Epoch 43/50\n",
            "48000/48000 [==============================] - 19s 390us/step - loss: 0.0163 - acc: 0.9942 - val_loss: 0.0284 - val_acc: 0.9924\n",
            "Epoch 44/50\n",
            "48000/48000 [==============================] - 19s 389us/step - loss: 0.0155 - acc: 0.9942 - val_loss: 0.0301 - val_acc: 0.9916\n",
            "Epoch 45/50\n",
            "48000/48000 [==============================] - 19s 389us/step - loss: 0.0154 - acc: 0.9949 - val_loss: 0.0306 - val_acc: 0.9923\n",
            "Epoch 46/50\n",
            "48000/48000 [==============================] - 19s 389us/step - loss: 0.0177 - acc: 0.9940 - val_loss: 0.0304 - val_acc: 0.9916\n",
            "Epoch 47/50\n",
            "48000/48000 [==============================] - 19s 391us/step - loss: 0.0168 - acc: 0.9941 - val_loss: 0.0292 - val_acc: 0.9927\n",
            "Epoch 48/50\n",
            "48000/48000 [==============================] - 19s 389us/step - loss: 0.0168 - acc: 0.9942 - val_loss: 0.0290 - val_acc: 0.9928\n",
            "Epoch 49/50\n",
            "48000/48000 [==============================] - 19s 391us/step - loss: 0.0164 - acc: 0.9944 - val_loss: 0.0333 - val_acc: 0.9914\n",
            "Epoch 50/50\n",
            "48000/48000 [==============================] - 19s 390us/step - loss: 0.0147 - acc: 0.9947 - val_loss: 0.0271 - val_acc: 0.9924\n"
          ],
          "name": "stdout"
        },
        {
          "output_type": "execute_result",
          "data": {
            "text/plain": [
              "<keras.callbacks.History at 0x7f6c33436080>"
            ]
          },
          "metadata": {
            "tags": []
          },
          "execution_count": 42
        }
      ]
    },
    {
      "cell_type": "code",
      "metadata": {
        "id": "nRfxQuwDzG5D",
        "colab_type": "code",
        "outputId": "7e31c15d-c2d1-4ddd-907c-ffb88deab521",
        "colab": {
          "base_uri": "https://localhost:8080/",
          "height": 1727
        }
      },
      "source": [
        "model.fit(X_train, Y_train, batch_size=32, nb_epoch=50,validation_split=0.2, verbose=1)"
      ],
      "execution_count": 0,
      "outputs": [
        {
          "output_type": "stream",
          "text": [
            "Train on 48000 samples, validate on 12000 samples\n",
            "Epoch 1/50\n",
            "  512/48000 [..............................] - ETA: 17s - loss: 0.0190 - acc: 0.9902"
          ],
          "name": "stdout"
        },
        {
          "output_type": "stream",
          "text": [
            "/usr/local/lib/python3.6/dist-packages/ipykernel_launcher.py:1: UserWarning: The `nb_epoch` argument in `fit` has been renamed `epochs`.\n",
            "  \"\"\"Entry point for launching an IPython kernel.\n"
          ],
          "name": "stderr"
        },
        {
          "output_type": "stream",
          "text": [
            "48000/48000 [==============================] - 19s 393us/step - loss: 0.0161 - acc: 0.9942 - val_loss: 0.0275 - val_acc: 0.9933\n",
            "Epoch 2/50\n",
            "48000/48000 [==============================] - 19s 395us/step - loss: 0.0157 - acc: 0.9951 - val_loss: 0.0323 - val_acc: 0.9923\n",
            "Epoch 3/50\n",
            "48000/48000 [==============================] - 19s 395us/step - loss: 0.0172 - acc: 0.9938 - val_loss: 0.0321 - val_acc: 0.9921\n",
            "Epoch 4/50\n",
            "48000/48000 [==============================] - 19s 395us/step - loss: 0.0142 - acc: 0.9952 - val_loss: 0.0287 - val_acc: 0.9932\n",
            "Epoch 5/50\n",
            "48000/48000 [==============================] - 19s 395us/step - loss: 0.0158 - acc: 0.9945 - val_loss: 0.0316 - val_acc: 0.9922\n",
            "Epoch 6/50\n",
            "48000/48000 [==============================] - 19s 394us/step - loss: 0.0161 - acc: 0.9949 - val_loss: 0.0277 - val_acc: 0.9927\n",
            "Epoch 7/50\n",
            "48000/48000 [==============================] - 19s 395us/step - loss: 0.0156 - acc: 0.9947 - val_loss: 0.0285 - val_acc: 0.9918\n",
            "Epoch 8/50\n",
            "48000/48000 [==============================] - 19s 393us/step - loss: 0.0142 - acc: 0.9953 - val_loss: 0.0277 - val_acc: 0.9932\n",
            "Epoch 9/50\n",
            "48000/48000 [==============================] - 19s 394us/step - loss: 0.0138 - acc: 0.9952 - val_loss: 0.0268 - val_acc: 0.9932\n",
            "Epoch 10/50\n",
            "48000/48000 [==============================] - 19s 394us/step - loss: 0.0147 - acc: 0.9950 - val_loss: 0.0323 - val_acc: 0.9908\n",
            "Epoch 11/50\n",
            "48000/48000 [==============================] - 19s 394us/step - loss: 0.0152 - acc: 0.9949 - val_loss: 0.0294 - val_acc: 0.9918\n",
            "Epoch 12/50\n",
            "48000/48000 [==============================] - 19s 394us/step - loss: 0.0146 - acc: 0.9950 - val_loss: 0.0255 - val_acc: 0.9938\n",
            "Epoch 13/50\n",
            "48000/48000 [==============================] - 19s 394us/step - loss: 0.0140 - acc: 0.9954 - val_loss: 0.0271 - val_acc: 0.9927\n",
            "Epoch 14/50\n",
            "48000/48000 [==============================] - 19s 394us/step - loss: 0.0133 - acc: 0.9957 - val_loss: 0.0283 - val_acc: 0.9932\n",
            "Epoch 15/50\n",
            "48000/48000 [==============================] - 19s 395us/step - loss: 0.0139 - acc: 0.9954 - val_loss: 0.0264 - val_acc: 0.9935\n",
            "Epoch 16/50\n",
            "48000/48000 [==============================] - 19s 394us/step - loss: 0.0140 - acc: 0.9951 - val_loss: 0.0286 - val_acc: 0.9931\n",
            "Epoch 17/50\n",
            "48000/48000 [==============================] - 19s 393us/step - loss: 0.0143 - acc: 0.9949 - val_loss: 0.0338 - val_acc: 0.9908\n",
            "Epoch 18/50\n",
            "48000/48000 [==============================] - 19s 392us/step - loss: 0.0138 - acc: 0.9955 - val_loss: 0.0258 - val_acc: 0.9924\n",
            "Epoch 19/50\n",
            "48000/48000 [==============================] - 19s 393us/step - loss: 0.0135 - acc: 0.9951 - val_loss: 0.0323 - val_acc: 0.9918\n",
            "Epoch 20/50\n",
            "48000/48000 [==============================] - 19s 394us/step - loss: 0.0136 - acc: 0.9954 - val_loss: 0.0294 - val_acc: 0.9925\n",
            "Epoch 21/50\n",
            "48000/48000 [==============================] - 19s 396us/step - loss: 0.0141 - acc: 0.9954 - val_loss: 0.0256 - val_acc: 0.9930\n",
            "Epoch 22/50\n",
            "48000/48000 [==============================] - 19s 397us/step - loss: 0.0139 - acc: 0.9956 - val_loss: 0.0274 - val_acc: 0.9929\n",
            "Epoch 23/50\n",
            "48000/48000 [==============================] - 19s 394us/step - loss: 0.0137 - acc: 0.9951 - val_loss: 0.0267 - val_acc: 0.9931\n",
            "Epoch 24/50\n",
            "48000/48000 [==============================] - 19s 394us/step - loss: 0.0125 - acc: 0.9955 - val_loss: 0.0286 - val_acc: 0.9922\n",
            "Epoch 25/50\n",
            "48000/48000 [==============================] - 19s 394us/step - loss: 0.0134 - acc: 0.9952 - val_loss: 0.0245 - val_acc: 0.9936\n",
            "Epoch 26/50\n",
            "48000/48000 [==============================] - 19s 394us/step - loss: 0.0134 - acc: 0.9955 - val_loss: 0.0368 - val_acc: 0.9902\n",
            "Epoch 27/50\n",
            "48000/48000 [==============================] - 19s 395us/step - loss: 0.0128 - acc: 0.9958 - val_loss: 0.0288 - val_acc: 0.9927\n",
            "Epoch 28/50\n",
            "48000/48000 [==============================] - 19s 395us/step - loss: 0.0125 - acc: 0.9956 - val_loss: 0.0292 - val_acc: 0.9923\n",
            "Epoch 29/50\n",
            "48000/48000 [==============================] - 19s 395us/step - loss: 0.0128 - acc: 0.9955 - val_loss: 0.0285 - val_acc: 0.9929\n",
            "Epoch 30/50\n",
            "48000/48000 [==============================] - 19s 395us/step - loss: 0.0126 - acc: 0.9953 - val_loss: 0.0276 - val_acc: 0.9928\n",
            "Epoch 31/50\n",
            "48000/48000 [==============================] - 19s 395us/step - loss: 0.0125 - acc: 0.9957 - val_loss: 0.0292 - val_acc: 0.9924\n",
            "Epoch 32/50\n",
            "48000/48000 [==============================] - 19s 395us/step - loss: 0.0116 - acc: 0.9959 - val_loss: 0.0320 - val_acc: 0.9918\n",
            "Epoch 33/50\n",
            "48000/48000 [==============================] - 19s 393us/step - loss: 0.0128 - acc: 0.9956 - val_loss: 0.0292 - val_acc: 0.9917\n",
            "Epoch 34/50\n",
            "48000/48000 [==============================] - 19s 395us/step - loss: 0.0121 - acc: 0.9959 - val_loss: 0.0300 - val_acc: 0.9913\n",
            "Epoch 35/50\n",
            "48000/48000 [==============================] - 19s 398us/step - loss: 0.0123 - acc: 0.9959 - val_loss: 0.0272 - val_acc: 0.9924\n",
            "Epoch 36/50\n",
            "48000/48000 [==============================] - 19s 404us/step - loss: 0.0128 - acc: 0.9959 - val_loss: 0.0283 - val_acc: 0.9931\n",
            "Epoch 37/50\n",
            "48000/48000 [==============================] - 19s 398us/step - loss: 0.0129 - acc: 0.9955 - val_loss: 0.0283 - val_acc: 0.9919\n",
            "Epoch 38/50\n",
            "48000/48000 [==============================] - 19s 395us/step - loss: 0.0116 - acc: 0.9961 - val_loss: 0.0275 - val_acc: 0.9926\n",
            "Epoch 39/50\n",
            "48000/48000 [==============================] - 19s 395us/step - loss: 0.0132 - acc: 0.9953 - val_loss: 0.0309 - val_acc: 0.9919\n",
            "Epoch 40/50\n",
            "48000/48000 [==============================] - 19s 395us/step - loss: 0.0131 - acc: 0.9955 - val_loss: 0.0285 - val_acc: 0.9923\n",
            "Epoch 41/50\n",
            "48000/48000 [==============================] - 19s 395us/step - loss: 0.0116 - acc: 0.9961 - val_loss: 0.0311 - val_acc: 0.9911\n",
            "Epoch 42/50\n",
            "48000/48000 [==============================] - 19s 395us/step - loss: 0.0121 - acc: 0.9959 - val_loss: 0.0269 - val_acc: 0.9930\n",
            "Epoch 43/50\n",
            "48000/48000 [==============================] - 19s 395us/step - loss: 0.0109 - acc: 0.9962 - val_loss: 0.0283 - val_acc: 0.9927\n",
            "Epoch 44/50\n",
            "48000/48000 [==============================] - 19s 396us/step - loss: 0.0119 - acc: 0.9959 - val_loss: 0.0312 - val_acc: 0.9920\n",
            "Epoch 45/50\n",
            "48000/48000 [==============================] - 19s 395us/step - loss: 0.0098 - acc: 0.9965 - val_loss: 0.0298 - val_acc: 0.9918\n",
            "Epoch 46/50\n",
            "48000/48000 [==============================] - 19s 395us/step - loss: 0.0120 - acc: 0.9956 - val_loss: 0.0286 - val_acc: 0.9928\n",
            "Epoch 47/50\n",
            "48000/48000 [==============================] - 19s 394us/step - loss: 0.0112 - acc: 0.9962 - val_loss: 0.0260 - val_acc: 0.9930\n",
            "Epoch 48/50\n",
            "48000/48000 [==============================] - 19s 394us/step - loss: 0.0122 - acc: 0.9958 - val_loss: 0.0289 - val_acc: 0.9936\n",
            "Epoch 49/50\n",
            "48000/48000 [==============================] - 19s 394us/step - loss: 0.0106 - acc: 0.9963 - val_loss: 0.0268 - val_acc: 0.9927\n",
            "Epoch 50/50\n",
            "48000/48000 [==============================] - 19s 394us/step - loss: 0.0106 - acc: 0.9959 - val_loss: 0.0261 - val_acc: 0.9930\n"
          ],
          "name": "stdout"
        },
        {
          "output_type": "execute_result",
          "data": {
            "text/plain": [
              "<keras.callbacks.History at 0x7f6c32d3a208>"
            ]
          },
          "metadata": {
            "tags": []
          },
          "execution_count": 45
        }
      ]
    },
    {
      "cell_type": "code",
      "metadata": {
        "id": "jfB4FXQn23mr",
        "colab_type": "code",
        "outputId": "7ef2071c-9618-4ea8-cf7d-0a84f9748a8b",
        "colab": {
          "base_uri": "https://localhost:8080/",
          "height": 915
        }
      },
      "source": [
        "model.fit(X_train, Y_train, batch_size=32, nb_epoch=25,validation_split=0.2, verbose=1)"
      ],
      "execution_count": 0,
      "outputs": [
        {
          "output_type": "stream",
          "text": [
            "Train on 48000 samples, validate on 12000 samples\n",
            "Epoch 1/25\n",
            "  512/48000 [..............................] - ETA: 17s - loss: 0.0038 - acc: 1.0000"
          ],
          "name": "stdout"
        },
        {
          "output_type": "stream",
          "text": [
            "/usr/local/lib/python3.6/dist-packages/ipykernel_launcher.py:1: UserWarning: The `nb_epoch` argument in `fit` has been renamed `epochs`.\n",
            "  \"\"\"Entry point for launching an IPython kernel.\n"
          ],
          "name": "stderr"
        },
        {
          "output_type": "stream",
          "text": [
            "48000/48000 [==============================] - 19s 393us/step - loss: 0.0111 - acc: 0.9962 - val_loss: 0.0277 - val_acc: 0.9927\n",
            "Epoch 2/25\n",
            "48000/48000 [==============================] - 19s 394us/step - loss: 0.0120 - acc: 0.9959 - val_loss: 0.0294 - val_acc: 0.9931\n",
            "Epoch 3/25\n",
            "48000/48000 [==============================] - 19s 394us/step - loss: 0.0109 - acc: 0.9963 - val_loss: 0.0270 - val_acc: 0.9925\n",
            "Epoch 4/25\n",
            "48000/48000 [==============================] - 19s 394us/step - loss: 0.0110 - acc: 0.9961 - val_loss: 0.0274 - val_acc: 0.9927\n",
            "Epoch 5/25\n",
            "48000/48000 [==============================] - 19s 395us/step - loss: 0.0092 - acc: 0.9969 - val_loss: 0.0269 - val_acc: 0.9928\n",
            "Epoch 6/25\n",
            "48000/48000 [==============================] - 19s 403us/step - loss: 0.0122 - acc: 0.9956 - val_loss: 0.0265 - val_acc: 0.9937\n",
            "Epoch 7/25\n",
            "48000/48000 [==============================] - 19s 397us/step - loss: 0.0115 - acc: 0.9960 - val_loss: 0.0264 - val_acc: 0.9928\n",
            "Epoch 8/25\n",
            "48000/48000 [==============================] - 19s 401us/step - loss: 0.0103 - acc: 0.9966 - val_loss: 0.0291 - val_acc: 0.9916\n",
            "Epoch 9/25\n",
            "48000/48000 [==============================] - 19s 400us/step - loss: 0.0100 - acc: 0.9967 - val_loss: 0.0308 - val_acc: 0.9917\n",
            "Epoch 10/25\n",
            "48000/48000 [==============================] - 19s 400us/step - loss: 0.0112 - acc: 0.9962 - val_loss: 0.0287 - val_acc: 0.9929\n",
            "Epoch 11/25\n",
            "48000/48000 [==============================] - 19s 395us/step - loss: 0.0113 - acc: 0.9960 - val_loss: 0.0306 - val_acc: 0.9917\n",
            "Epoch 12/25\n",
            "48000/48000 [==============================] - 19s 396us/step - loss: 0.0101 - acc: 0.9965 - val_loss: 0.0269 - val_acc: 0.9926\n",
            "Epoch 13/25\n",
            "48000/48000 [==============================] - 19s 396us/step - loss: 0.0108 - acc: 0.9962 - val_loss: 0.0275 - val_acc: 0.9920\n",
            "Epoch 14/25\n",
            "48000/48000 [==============================] - 19s 396us/step - loss: 0.0106 - acc: 0.9962 - val_loss: 0.0255 - val_acc: 0.9929\n",
            "Epoch 15/25\n",
            "48000/48000 [==============================] - 19s 396us/step - loss: 0.0120 - acc: 0.9959 - val_loss: 0.0293 - val_acc: 0.9928\n",
            "Epoch 16/25\n",
            "48000/48000 [==============================] - 19s 395us/step - loss: 0.0106 - acc: 0.9964 - val_loss: 0.0248 - val_acc: 0.9938\n",
            "Epoch 17/25\n",
            "48000/48000 [==============================] - 19s 395us/step - loss: 0.0107 - acc: 0.9963 - val_loss: 0.0258 - val_acc: 0.9929\n",
            "Epoch 18/25\n",
            "48000/48000 [==============================] - 19s 395us/step - loss: 0.0096 - acc: 0.9970 - val_loss: 0.0254 - val_acc: 0.9929\n",
            "Epoch 19/25\n",
            "48000/48000 [==============================] - 19s 395us/step - loss: 0.0117 - acc: 0.9961 - val_loss: 0.0277 - val_acc: 0.9932\n",
            "Epoch 20/25\n",
            "48000/48000 [==============================] - 19s 395us/step - loss: 0.0095 - acc: 0.9966 - val_loss: 0.0283 - val_acc: 0.9921\n",
            "Epoch 21/25\n",
            "48000/48000 [==============================] - 19s 395us/step - loss: 0.0119 - acc: 0.9958 - val_loss: 0.0264 - val_acc: 0.9932\n",
            "Epoch 22/25\n",
            "48000/48000 [==============================] - 19s 395us/step - loss: 0.0107 - acc: 0.9962 - val_loss: 0.0260 - val_acc: 0.9933\n",
            "Epoch 23/25\n",
            "48000/48000 [==============================] - 19s 395us/step - loss: 0.0097 - acc: 0.9969 - val_loss: 0.0276 - val_acc: 0.9929\n",
            "Epoch 24/25\n",
            "48000/48000 [==============================] - 19s 395us/step - loss: 0.0119 - acc: 0.9958 - val_loss: 0.0280 - val_acc: 0.9932\n",
            "Epoch 25/25\n",
            "48000/48000 [==============================] - 19s 395us/step - loss: 0.0101 - acc: 0.9965 - val_loss: 0.0259 - val_acc: 0.9932\n"
          ],
          "name": "stdout"
        },
        {
          "output_type": "execute_result",
          "data": {
            "text/plain": [
              "<keras.callbacks.History at 0x7f6c3349ceb8>"
            ]
          },
          "metadata": {
            "tags": []
          },
          "execution_count": 48
        }
      ]
    },
    {
      "cell_type": "code",
      "metadata": {
        "id": "AtsH-lLk-eLb",
        "colab_type": "code",
        "colab": {}
      },
      "source": [
        "score = model.evaluate(X_test, Y_test, verbose=0)"
      ],
      "execution_count": 0,
      "outputs": []
    },
    {
      "cell_type": "code",
      "metadata": {
        "id": "mkX8JMv79q9r",
        "colab_type": "code",
        "outputId": "ddc5bc85-4677-41c3-e7c4-a688d59c488a",
        "colab": {
          "base_uri": "https://localhost:8080/",
          "height": 33
        }
      },
      "source": [
        "print(score)"
      ],
      "execution_count": 0,
      "outputs": [
        {
          "output_type": "stream",
          "text": [
            "[0.01975430347621441, 0.9942]\n"
          ],
          "name": "stdout"
        }
      ]
    },
    {
      "cell_type": "code",
      "metadata": {
        "id": "OCWoJkwE9suh",
        "colab_type": "code",
        "colab": {}
      },
      "source": [
        "y_pred = model.predict(X_test)"
      ],
      "execution_count": 0,
      "outputs": []
    },
    {
      "cell_type": "code",
      "metadata": {
        "id": "Ym7iCFBm9uBs",
        "colab_type": "code",
        "outputId": "80cf5d6a-8d58-483b-e8da-d156b7a39e19",
        "colab": {
          "base_uri": "https://localhost:8080/",
          "height": 472
        }
      },
      "source": [
        "print(y_pred[:9])\n",
        "print(y_test[:9])"
      ],
      "execution_count": 0,
      "outputs": [
        {
          "output_type": "stream",
          "text": [
            "[[1.08469765e-12 1.74209553e-08 4.04730599e-07 9.95132609e-07\n",
            "  7.57678087e-11 2.69741535e-10 8.46827012e-16 9.99997139e-01\n",
            "  6.72160549e-09 1.41393173e-06]\n",
            " [7.89325085e-08 6.99437635e-07 9.99998808e-01 1.69466130e-09\n",
            "  2.88288907e-11 6.79525609e-14 1.79309879e-07 1.50426249e-08\n",
            "  2.21045737e-09 6.02972747e-08]\n",
            " [8.76951731e-07 9.98776019e-01 1.74175148e-06 1.99057322e-08\n",
            "  6.55263430e-04 1.70273813e-06 1.28670712e-04 4.16624011e-04\n",
            "  1.62144461e-05 2.84044063e-06]\n",
            " [9.99498487e-01 1.27934247e-10 1.44961166e-06 1.17431425e-08\n",
            "  3.39013191e-08 3.95525092e-07 4.93488857e-04 1.27710553e-08\n",
            "  1.59779700e-06 4.58574141e-06]\n",
            " [1.12203391e-09 9.18441490e-10 5.60895774e-10 2.85010748e-11\n",
            "  9.99918938e-01 4.63085126e-11 1.09415282e-07 2.01598844e-08\n",
            "  1.76222409e-06 7.91937637e-05]\n",
            " [3.49602391e-09 9.98648703e-01 1.02822725e-07 1.93066452e-10\n",
            "  8.17313790e-04 6.87703539e-09 1.29153523e-06 5.29065321e-04\n",
            "  1.79136032e-06 1.80467839e-06]\n",
            " [5.88642879e-15 5.85836668e-09 3.40441719e-09 1.18526066e-13\n",
            "  9.99830008e-01 1.60756031e-08 1.35711694e-11 2.04134065e-09\n",
            "  1.22246493e-04 4.77024660e-05]\n",
            " [5.47419319e-08 2.99877945e-09 5.60511671e-06 1.64087726e-06\n",
            "  6.79799239e-04 2.84214309e-07 7.97662839e-11 1.51092922e-06\n",
            "  2.48552242e-04 9.99062598e-01]\n",
            " [9.31412387e-08 1.12021573e-14 3.78330783e-10 4.28976143e-08\n",
            "  8.27501331e-11 9.98668790e-01 9.12550255e-04 3.32871859e-13\n",
            "  4.17143601e-04 1.40284442e-06]]\n",
            "[7 2 1 0 4 1 4 9 5]\n"
          ],
          "name": "stdout"
        }
      ]
    },
    {
      "cell_type": "code",
      "metadata": {
        "id": "CT--y98_dr2T",
        "colab_type": "code",
        "colab": {}
      },
      "source": [
        "layer_dict = dict([(layer.name, layer) for layer in model.layers])"
      ],
      "execution_count": 0,
      "outputs": []
    },
    {
      "cell_type": "code",
      "metadata": {
        "id": "2GY4Upv4dsUR",
        "colab_type": "code",
        "outputId": "26d905cb-81e7-41e7-9489-62404de60bdd",
        "colab": {
          "base_uri": "https://localhost:8080/",
          "height": 837
        }
      },
      "source": [
        "import numpy as np\n",
        "from matplotlib import pyplot as plt\n",
        "from keras import backend as K\n",
        "%matplotlib inline\n",
        "# util function to convert a tensor into a valid image\n",
        "def deprocess_image(x):\n",
        "    # normalize tensor: center on 0., ensure std is 0.1\n",
        "    x -= x.mean()\n",
        "    x /= (x.std() + 1e-5)\n",
        "    x *= 0.1\n",
        "\n",
        "    # clip to [0, 1]\n",
        "    x += 0.5\n",
        "    x = np.clip(x, 0, 1)\n",
        "\n",
        "    # convert to RGB array\n",
        "    x *= 255\n",
        "    #x = x.transpose((1, 2, 0))\n",
        "    x = np.clip(x, 0, 255).astype('uint8')\n",
        "    return x\n",
        "\n",
        "def vis_img_in_filter(img = np.array(X_train[2]).reshape((1, 28, 28, 1)).astype(np.float64), \n",
        "                      layer_name = 'conv2d_19'):\n",
        "    layer_output = layer_dict[layer_name].output\n",
        "    img_ascs = list()\n",
        "    for filter_index in range(layer_output.shape[3]):\n",
        "        # build a loss function that maximizes the activation\n",
        "        # of the nth filter of the layer considered\n",
        "        loss = K.mean(layer_output[:, :, :, filter_index])\n",
        "\n",
        "        # compute the gradient of the input picture wrt this loss\n",
        "        grads = K.gradients(loss, model.input)[0]\n",
        "\n",
        "        # normalization trick: we normalize the gradient\n",
        "        grads /= (K.sqrt(K.mean(K.square(grads))) + 1e-5)\n",
        "\n",
        "        # this function returns the loss and grads given the input picture\n",
        "        iterate = K.function([model.input], [loss, grads])\n",
        "\n",
        "        # step size for gradient ascent\n",
        "        step = 5.\n",
        "\n",
        "        img_asc = np.array(img)\n",
        "        # run gradient ascent for 20 steps\n",
        "        for i in range(20):\n",
        "            loss_value, grads_value = iterate([img_asc])\n",
        "            img_asc += grads_value * step\n",
        "\n",
        "        img_asc = img_asc[0]\n",
        "        img_ascs.append(deprocess_image(img_asc).reshape((28, 28)))\n",
        "        \n",
        "    if layer_output.shape[3] >= 35:\n",
        "        plot_x, plot_y = 6, 6\n",
        "    elif layer_output.shape[3] >= 23:\n",
        "        plot_x, plot_y = 4, 6\n",
        "    elif layer_output.shape[3] >= 11:\n",
        "        plot_x, plot_y = 2, 6\n",
        "    else:\n",
        "        plot_x, plot_y = 1, 2\n",
        "    fig, ax = plt.subplots(plot_x, plot_y, figsize = (12, 12))\n",
        "    ax[0, 0].imshow(img.reshape((28, 28)), cmap = 'gray')\n",
        "    ax[0, 0].set_title('Input image')\n",
        "    fig.suptitle('Input image and %s filters' % (layer_name,))\n",
        "    fig.tight_layout(pad = 0.3, rect = [0, 0, 0.9, 0.9])\n",
        "    for (x, y) in [(i, j) for i in range(plot_x) for j in range(plot_y)]:\n",
        "        if x == 0 and y == 0:\n",
        "            continue\n",
        "        ax[x, y].imshow(img_ascs[x * plot_y + y - 1], cmap = 'gray')\n",
        "        ax[x, y].set_title('filter %d' % (x * plot_y + y - 1))\n",
        "\n",
        "vis_img_in_filter()"
      ],
      "execution_count": 0,
      "outputs": [
        {
          "output_type": "display_data",
          "data": {
            "image/png": "[encoded data removed]",
            "text/plain": [
              "<Figure size 864x864 with 24 Axes>"
            ]
          },
          "metadata": {
            "tags": []
          }
        }
      ]
    },
    {
      "cell_type": "code",
      "metadata": {
        "id": "9tvptcn8dxvp",
        "colab_type": "code",
        "colab": {}
      },
      "source": [
        ""
      ],
      "execution_count": 0,
      "outputs": []
    }
  ]
}