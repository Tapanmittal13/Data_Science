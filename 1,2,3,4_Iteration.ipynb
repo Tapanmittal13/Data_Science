{
  "nbformat": 4,
  "nbformat_minor": 0,
  "metadata": {
    "colab": {
      "name": "Fourth_Iteration.ipynb",
      "provenance": [],
      "collapsed_sections": [],
      "include_colab_link": true
    },
    "kernelspec": {
      "name": "python3",
      "display_name": "Python 3"
    },
    "accelerator": "GPU"
  },
  "cells": [
    {
      "cell_type": "markdown",
      "metadata": {
        "id": "view-in-github",
        "colab_type": "text"
      },
      "source": [
        "<a href=\"https://colab.research.google.com/github/Tapanmittal13/Data_Science/blob/master/1%2C2%2C3%2C4_Iteration.ipynb\" target=\"_parent\"><img src=\"https://colab.research.google.com/assets/colab-badge.svg\" alt=\"Open In Colab\"/></a>"
      ]
    },
    {
      "cell_type": "markdown",
      "metadata": {
        "id": "SokRCLnE7j7c",
        "colab_type": "text"
      },
      "source": [
        "**Vanilla Network**\n",
        "\n",
        "**Objective:**\n",
        "Build a network using learnt techniques of convolution block & Transition block.\n",
        "Controlling params is not on priority right now.\n",
        "Try and make a robust model,which on continued training for large no. of epochs can reach the target accuracy of 99.4.\n",
        "\n",
        "**Steps Followed:**\n",
        "1. 1x1 \n",
        "2. Max Pooling\n",
        "\n",
        "**Observation:**\n",
        "As we discussed in class, i see a difference of 99.59-99.02=0.57 between training & val accuracy.\n",
        "That means if my training acc reaches 99.97, I can get 99.4 val accuracy.\n",
        "\n",
        "But i noticed one thing, if i run this iteration at diff times,i somethimes get accuracy less than 99 and at times 99.2 too.\n",
        "According to the session,the vanilla network i have built above is similar to your network but this doesnt seem to be stable if it is fluctuating so much.\n",
        "\n",
        "I will for next iteration  to control the no of  parameters to the given number.\n",
        "\n",
        "********************************************************************************\n",
        "\n",
        "**Objective:** \n",
        "\n",
        "Try and get closer to number of parameter constraint & reduce the gap in accuracy too.\n",
        "\n",
        "\n",
        "**3 Steps Followed:**\n",
        "\n",
        "1. Reduce the number of params by decreasing the number of kernels\n",
        "2. Add Batch Normalisation to increase the accuracy\n",
        "3. Increase the batch size from 32 to 64.\n",
        "\n",
        "**Observation:**\n",
        "\n",
        "Parameters dropped from 53k to 16.5k,but our validation accuracy took a hit inspite of doing BN & increasing batch size.\n",
        "The gap between training and validation accuracy widened more.\n",
        "On the contrary, I was expecting same accuracy post 10 epochs as last iteration since here also last epoch is giving 99.59 accuracy.\n",
        "But to my suprise it dropped further.\n",
        "I think decrease in params striked a sort of balance with BN.\n",
        "\n",
        "********************************************************************************\n",
        "\n",
        "\n",
        "**Objective:** \n",
        "\n",
        "Trying to  reduce the params by around 1.5k and make sure to Increase the  accuracy and try to reduce the gap between training & Validation Accuracy.\n",
        "\n",
        "**3 Steps Followed:**\n",
        "\n",
        "1. Add Dropouts in transition layer or convolution or both\n",
        "2. Increase the number of epochs from 10 to 20 & included validation accuracy watchout too to get better understanding of the change per epoch.\n",
        "3. Reduce the number of params by reducing kernels in the layer in order to match the assignment criteria\n",
        "\n",
        "**Observation:**\n",
        "i achieved the accuracy of 99.4 within 15k params but not convinced.\n",
        "First time I saw validation accuracy more than training accuracy and I was in a state of overwhelm.\n",
        "This trend continued till the end. As per the teaching, dropout helps to reduce the gap between both but seeing this trend i got confused.\n",
        "\n",
        "\n",
        "*******************************************************************************\n",
        "\n",
        "\n",
        "**Objective:** \n",
        "Beat my own model in last iteration\n",
        "\n",
        "**3 Steps Followed:**\n",
        "\n",
        "1. LR Scheduler with picking best epoch to evalua\n",
        "te the model\n",
        "2. Further reduce the number of params & train for 10 epochs\n",
        "3. Increase the batch size from 64 to 128"
      ]
    },
    {
      "cell_type": "markdown",
      "metadata": {
        "id": "aNyZv-Ec52ot",
        "colab_type": "text"
      },
      "source": [
        "# **Import Libraries and modules**"
      ]
    },
    {
      "cell_type": "code",
      "metadata": {
        "id": "3m3w1Cw49Zkt",
        "colab_type": "code",
        "outputId": "396a5d73-e147-4ac8-9383-61a0c2b0c668",
        "colab": {
          "base_uri": "https://localhost:8080/",
          "height": 34
        }
      },
      "source": [
        "# https://keras.io/\n",
        "!pip install -q keras\n",
        "import keras"
      ],
      "execution_count": 0,
      "outputs": [
        {
          "output_type": "stream",
          "text": [
            "Using TensorFlow backend.\n"
          ],
          "name": "stderr"
        }
      ]
    },
    {
      "cell_type": "code",
      "metadata": {
        "id": "Eso6UHE080D4",
        "colab_type": "code",
        "colab": {}
      },
      "source": [
        "import numpy as np\n",
        "\n",
        "from keras.models import Sequential\n",
        "from keras.layers import Dense, Dropout, Activation, Flatten, Add\n",
        "from keras.layers import Convolution2D, MaxPooling2D\n",
        "from keras.utils import np_utils\n",
        "from keras.layers.normalization import BatchNormalization\n",
        "from keras.datasets import mnist"
      ],
      "execution_count": 0,
      "outputs": []
    },
    {
      "cell_type": "markdown",
      "metadata": {
        "id": "zByEi95J86RD",
        "colab_type": "text"
      },
      "source": [
        "### Load pre-shuffled MNIST data into train and test sets"
      ]
    },
    {
      "cell_type": "code",
      "metadata": {
        "id": "7eRM0QWN83PV",
        "colab_type": "code",
        "outputId": "63c8f331-1eaa-4a52-deee-89342586e136",
        "colab": {
          "base_uri": "https://localhost:8080/",
          "height": 51
        }
      },
      "source": [
        "(X_train, y_train), (X_test, y_test) = mnist.load_data()"
      ],
      "execution_count": 0,
      "outputs": [
        {
          "output_type": "stream",
          "text": [
            "Downloading data from https://s3.amazonaws.com/img-datasets/mnist.npz\n",
            "11493376/11490434 [==============================] - 1s 0us/step\n"
          ],
          "name": "stdout"
        }
      ]
    },
    {
      "cell_type": "code",
      "metadata": {
        "id": "4a4Be72j8-ZC",
        "colab_type": "code",
        "outputId": "13966126-ded5-4843-8d7d-0260f6d421f9",
        "colab": {
          "base_uri": "https://localhost:8080/",
          "height": 303
        }
      },
      "source": [
        "print (X_train.shape)\n",
        "from matplotlib import pyplot as plt\n",
        "%matplotlib inline\n",
        "plt.imshow(X_train[0])"
      ],
      "execution_count": 0,
      "outputs": [
        {
          "output_type": "stream",
          "text": [
            "(60000, 28, 28)\n"
          ],
          "name": "stdout"
        },
        {
          "output_type": "execute_result",
          "data": {
            "text/plain": [
              "<matplotlib.image.AxesImage at 0x7fa3edae4860>"
            ]
          },
          "metadata": {
            "tags": []
          },
          "execution_count": 4
        },
        {
          "output_type": "display_data",
          "data": {
            "image/png": "[encoded data removed]",
            "text/plain": [
              "<Figure size 432x288 with 1 Axes>"
            ]
          },
          "metadata": {
            "tags": []
          }
        }
      ]
    },
    {
      "cell_type": "code",
      "metadata": {
        "id": "dkmprriw9AnZ",
        "colab_type": "code",
        "colab": {}
      },
      "source": [
        "X_train = X_train.reshape(X_train.shape[0], 28, 28,1)\n",
        "X_test = X_test.reshape(X_test.shape[0], 28, 28,1)"
      ],
      "execution_count": 0,
      "outputs": []
    },
    {
      "cell_type": "code",
      "metadata": {
        "id": "X2m4YS4E9CRh",
        "colab_type": "code",
        "colab": {}
      },
      "source": [
        "X_train = X_train.astype('float32')\n",
        "X_test = X_test.astype('float32')\n",
        "X_train /= 255\n",
        "X_test /= 255"
      ],
      "execution_count": 0,
      "outputs": []
    },
    {
      "cell_type": "code",
      "metadata": {
        "id": "0Mn0vAYD9DvB",
        "colab_type": "code",
        "outputId": "cb3747e4-f119-4e9d-ef31-f3c7f8e07fbc",
        "colab": {
          "base_uri": "https://localhost:8080/",
          "height": 34
        }
      },
      "source": [
        "y_train[:10]"
      ],
      "execution_count": 0,
      "outputs": [
        {
          "output_type": "execute_result",
          "data": {
            "text/plain": [
              "array([5, 0, 4, 1, 9, 2, 1, 3, 1, 4], dtype=uint8)"
            ]
          },
          "metadata": {
            "tags": []
          },
          "execution_count": 7
        }
      ]
    },
    {
      "cell_type": "code",
      "metadata": {
        "id": "ZG8JiXR39FHC",
        "colab_type": "code",
        "colab": {}
      },
      "source": [
        "# Convert 1-dimensional class arrays to 10-dimensional class matrices\n",
        "Y_train = np_utils.to_categorical(y_train, 10)\n",
        "Y_test = np_utils.to_categorical(y_test, 10)"
      ],
      "execution_count": 0,
      "outputs": []
    },
    {
      "cell_type": "code",
      "metadata": {
        "id": "fYlFRvKS9HMB",
        "colab_type": "code",
        "outputId": "0ca22bb7-e9c3-49c3-dadf-6ec2bd737a09",
        "colab": {
          "base_uri": "https://localhost:8080/",
          "height": 187
        }
      },
      "source": [
        "Y_train[:10]\n"
      ],
      "execution_count": 0,
      "outputs": [
        {
          "output_type": "execute_result",
          "data": {
            "text/plain": [
              "array([[0., 0., 0., 0., 0., 1., 0., 0., 0., 0.],\n",
              "       [1., 0., 0., 0., 0., 0., 0., 0., 0., 0.],\n",
              "       [0., 0., 0., 0., 1., 0., 0., 0., 0., 0.],\n",
              "       [0., 1., 0., 0., 0., 0., 0., 0., 0., 0.],\n",
              "       [0., 0., 0., 0., 0., 0., 0., 0., 0., 1.],\n",
              "       [0., 0., 1., 0., 0., 0., 0., 0., 0., 0.],\n",
              "       [0., 1., 0., 0., 0., 0., 0., 0., 0., 0.],\n",
              "       [0., 0., 0., 1., 0., 0., 0., 0., 0., 0.],\n",
              "       [0., 1., 0., 0., 0., 0., 0., 0., 0., 0.],\n",
              "       [0., 0., 0., 0., 1., 0., 0., 0., 0., 0.]], dtype=float32)"
            ]
          },
          "metadata": {
            "tags": []
          },
          "execution_count": 9
        }
      ]
    },
    {
      "cell_type": "code",
      "metadata": {
        "id": "TT3y5wmHuXRV",
        "colab_type": "code",
        "outputId": "f755029d-bf01-4661-d1cb-ca13bbda65e5",
        "colab": {
          "base_uri": "https://localhost:8080/",
          "height": 139
        }
      },
      "source": [
        "from keras.layers import Activation\n",
        "\n",
        "model = Sequential()\n",
        "\n",
        "#Transition block\n",
        "model.add(Convolution2D(10,3,activation='relu', input_shape=(28,28,1))) #26\n",
        "model.add(BatchNormalization())\n",
        "\n",
        "#Convolution block\n",
        "model.add(Convolution2D(10,3,activation='relu')) #24\n",
        "model.add(BatchNormalization())\n",
        "model.add(Dropout(0.1))\n",
        "\n",
        "model.add(Convolution2D(20, 3, activation='relu')) #22\n",
        "model.add(BatchNormalization())\n",
        "model.add(Dropout(0.1))\n",
        "\n",
        "#Transition block\n",
        "model.add(MaxPooling2D(2,2)) #11\n",
        "model.add(Convolution2D(10,1,activation='relu')) #11\n",
        "model.add(BatchNormalization())\n",
        "model.add(Dropout(0.1))\n",
        "\n",
        "#Convolution block\n",
        "model.add(Convolution2D(10,3,activation='relu')) #9\n",
        "model.add(BatchNormalization())\n",
        "model.add(Convolution2D(20, 3, activation='relu')) #7\n",
        "model.add(BatchNormalization())\n",
        "model.add(Dropout(0.1))\n",
        "\n",
        "#Transition block\n",
        "\n",
        "model.add(Convolution2D(10,1,activation='relu')) #7\n",
        "model.add(BatchNormalization())\n",
        "model.add(Dropout(0.1))\n",
        "\n",
        "model.add(Convolution2D(10,7))\n",
        "model.add(BatchNormalization())\n",
        "\n",
        "model.add(Flatten())\n",
        "model.add(Activation('softmax'))"
      ],
      "execution_count": 0,
      "outputs": [
        {
          "output_type": "stream",
          "text": [
            "WARNING:tensorflow:From /usr/local/lib/python3.6/dist-packages/tensorflow/python/framework/op_def_library.py:263: colocate_with (from tensorflow.python.framework.ops) is deprecated and will be removed in a future version.\n",
            "Instructions for updating:\n",
            "Colocations handled automatically by placer.\n",
            "WARNING:tensorflow:From /usr/local/lib/python3.6/dist-packages/keras/backend/tensorflow_backend.py:3445: calling dropout (from tensorflow.python.ops.nn_ops) with keep_prob is deprecated and will be removed in a future version.\n",
            "Instructions for updating:\n",
            "Please use `rate` instead of `keep_prob`. Rate should be set to `rate = 1 - keep_prob`.\n"
          ],
          "name": "stdout"
        }
      ]
    },
    {
      "cell_type": "code",
      "metadata": {
        "id": "TzdAYg1k9K7Z",
        "colab_type": "code",
        "outputId": "8e3407b7-d2cc-45e6-a04a-f4da0aa80101",
        "colab": {
          "base_uri": "https://localhost:8080/",
          "height": 952
        }
      },
      "source": [
        "model.summary()"
      ],
      "execution_count": 0,
      "outputs": [
        {
          "output_type": "stream",
          "text": [
            "_________________________________________________________________\n",
            "Layer (type)                 Output Shape              Param #   \n",
            "=================================================================\n",
            "conv2d_1 (Conv2D)            (None, 26, 26, 10)        100       \n",
            "_________________________________________________________________\n",
            "batch_normalization_1 (Batch (None, 26, 26, 10)        40        \n",
            "_________________________________________________________________\n",
            "conv2d_2 (Conv2D)            (None, 24, 24, 10)        910       \n",
            "_________________________________________________________________\n",
            "batch_normalization_2 (Batch (None, 24, 24, 10)        40        \n",
            "_________________________________________________________________\n",
            "dropout_1 (Dropout)          (None, 24, 24, 10)        0         \n",
            "_________________________________________________________________\n",
            "conv2d_3 (Conv2D)            (None, 22, 22, 20)        1820      \n",
            "_________________________________________________________________\n",
            "batch_normalization_3 (Batch (None, 22, 22, 20)        80        \n",
            "_________________________________________________________________\n",
            "dropout_2 (Dropout)          (None, 22, 22, 20)        0         \n",
            "_________________________________________________________________\n",
            "max_pooling2d_1 (MaxPooling2 (None, 11, 11, 20)        0         \n",
            "_________________________________________________________________\n",
            "conv2d_4 (Conv2D)            (None, 11, 11, 10)        210       \n",
            "_________________________________________________________________\n",
            "batch_normalization_4 (Batch (None, 11, 11, 10)        40        \n",
            "_________________________________________________________________\n",
            "dropout_3 (Dropout)          (None, 11, 11, 10)        0         \n",
            "_________________________________________________________________\n",
            "conv2d_5 (Conv2D)            (None, 9, 9, 10)          910       \n",
            "_________________________________________________________________\n",
            "batch_normalization_5 (Batch (None, 9, 9, 10)          40        \n",
            "_________________________________________________________________\n",
            "conv2d_6 (Conv2D)            (None, 7, 7, 20)          1820      \n",
            "_________________________________________________________________\n",
            "batch_normalization_6 (Batch (None, 7, 7, 20)          80        \n",
            "_________________________________________________________________\n",
            "dropout_4 (Dropout)          (None, 7, 7, 20)          0         \n",
            "_________________________________________________________________\n",
            "conv2d_7 (Conv2D)            (None, 7, 7, 10)          210       \n",
            "_________________________________________________________________\n",
            "batch_normalization_7 (Batch (None, 7, 7, 10)          40        \n",
            "_________________________________________________________________\n",
            "dropout_5 (Dropout)          (None, 7, 7, 10)          0         \n",
            "_________________________________________________________________\n",
            "conv2d_8 (Conv2D)            (None, 1, 1, 10)          4910      \n",
            "_________________________________________________________________\n",
            "batch_normalization_8 (Batch (None, 1, 1, 10)          40        \n",
            "_________________________________________________________________\n",
            "flatten_1 (Flatten)          (None, 10)                0         \n",
            "_________________________________________________________________\n",
            "activation_1 (Activation)    (None, 10)                0         \n",
            "=================================================================\n",
            "Total params: 11,290\n",
            "Trainable params: 11,090\n",
            "Non-trainable params: 200\n",
            "_________________________________________________________________\n"
          ],
          "name": "stdout"
        }
      ]
    },
    {
      "cell_type": "markdown",
      "metadata": {
        "id": "0JUzRc066KaB",
        "colab_type": "text"
      },
      "source": [
        "**Code below helps to take the best epoch amongst all and then evaluate the model based on it.**\n",
        "\n",
        "**This part of code holds the best epoch in the memory rather than saving it**"
      ]
    },
    {
      "cell_type": "code",
      "metadata": {
        "id": "VpGqIQxvFUYf",
        "colab_type": "code",
        "colab": {}
      },
      "source": [
        "import numpy as np\n",
        "from keras.callbacks import Callback\n",
        "class GetBest(Callback):\n",
        "    \"\"\"Get the best model at the end of training.\n",
        "\t# Arguments\n",
        "        monitor: quantity to monitor.\n",
        "        verbose: verbosity mode, 0 or 1.\n",
        "        mode: one of {auto, min, max}.\n",
        "            The decision\n",
        "            to overwrite the current stored weights is made\n",
        "            based on either the maximization or the\n",
        "            minimization of the monitored quantity. For `val_acc`,\n",
        "            this should be `max`, for `val_loss` this should\n",
        "            be `min`, etc. In `auto` mode, the direction is\n",
        "            automatically inferred from the name of the monitored quantity.\n",
        "        period: Interval (number of epochs) between checkpoints.\n",
        "\t# Example\n",
        "\t\tcallbacks = [GetBest(monitor='val_acc', verbose=1, mode='max')]\n",
        "\t\tmode.fit(X, y, validation_data=(X_eval, Y_eval),\n",
        "                 callbacks=callbacks)\n",
        "    \"\"\"\n",
        "\n",
        "    def __init__(self, monitor='val_loss', verbose=0,\n",
        "                 mode='auto', period=1):\n",
        "        super(GetBest, self).__init__()\n",
        "        self.monitor = monitor\n",
        "        self.verbose = verbose\n",
        "        self.period = period\n",
        "        self.best_epochs = 0\n",
        "        self.epochs_since_last_save = 0\n",
        "\n",
        "        if mode not in ['auto', 'min', 'max']:\n",
        "            warnings.warn('GetBest mode %s is unknown, '\n",
        "                          'fallback to auto mode.' % (mode),\n",
        "                          RuntimeWarning)\n",
        "            mode = 'auto'\n",
        "\n",
        "        if mode == 'min':\n",
        "            self.monitor_op = np.less\n",
        "            self.best = np.Inf\n",
        "        elif mode == 'max':\n",
        "            self.monitor_op = np.greater\n",
        "            self.best = -np.Inf\n",
        "        else:\n",
        "            if 'acc' in self.monitor or self.monitor.startswith('fmeasure'):\n",
        "                self.monitor_op = np.greater\n",
        "                self.best = -np.Inf\n",
        "            else:\n",
        "                self.monitor_op = np.less\n",
        "                self.best = np.Inf\n",
        "                \n",
        "    def on_train_begin(self, logs=None):\n",
        "        self.best_weights = self.model.get_weights()\n",
        "\n",
        "    def on_epoch_end(self, epoch, logs=None):\n",
        "        logs = logs or {}\n",
        "        self.epochs_since_last_save += 1\n",
        "        if self.epochs_since_last_save >= self.period:\n",
        "            self.epochs_since_last_save = 0\n",
        "            #filepath = self.filepath.format(epoch=epoch + 1, **logs)\n",
        "            current = logs.get(self.monitor)\n",
        "            if current is None:\n",
        "                warnings.warn('Can pick best model only with %s available, '\n",
        "                              'skipping.' % (self.monitor), RuntimeWarning)\n",
        "            else:\n",
        "                if self.monitor_op(current, self.best):\n",
        "                    if self.verbose > 0:\n",
        "                        print('\\nEpoch %05d: %s improved from %0.5f to %0.5f,'\n",
        "                              ' storing weights.'\n",
        "                              % (epoch + 1, self.monitor, self.best,\n",
        "                                 current))\n",
        "                    self.best = current\n",
        "                    self.best_epochs = epoch + 1\n",
        "                    self.best_weights = self.model.get_weights()\n",
        "                else:\n",
        "                    if self.verbose > 0:\n",
        "                        print('\\nEpoch %05d: %s did not improve' %\n",
        "                              (epoch + 1, self.monitor))            \n",
        "                    \n",
        "    def on_train_end(self, logs=None):\n",
        "        if self.verbose > 0:\n",
        "            print('Using epoch %05d with %s: %0.5f' % (self.best_epochs, self.monitor,\n",
        "                                                       self.best))\n",
        "        self.model.set_weights(self.best_weights)"
      ],
      "execution_count": 0,
      "outputs": []
    },
    {
      "cell_type": "code",
      "metadata": {
        "id": "Zp6SuGrL9M3h",
        "colab_type": "code",
        "colab": {}
      },
      "source": [
        "# model.compile(loss='categorical_crossentropy',\n",
        "#              optimizer='adam',\n",
        "#              metrics=['accuracy'])"
      ],
      "execution_count": 0,
      "outputs": []
    },
    {
      "cell_type": "code",
      "metadata": {
        "id": "0iSOWpQrEACf",
        "colab_type": "code",
        "colab": {}
      },
      "source": [
        "#checkpoint = ModelCheckpoint('model-{epoch:03d}-{acc:03f}-{val_acc:03f}.h5', verbose=1, monitor='val_loss',save_best_only=True, mode='auto')"
      ],
      "execution_count": 0,
      "outputs": []
    },
    {
      "cell_type": "code",
      "metadata": {
        "id": "ob6NuipWAPsL",
        "colab_type": "code",
        "colab": {}
      },
      "source": [
        "from keras.optimizers import Adam\n",
        "from keras.callbacks import LearningRateScheduler\n",
        "def scheduler(epoch, lr):\n",
        "  return round(0.003 * 1/(1 + 0.319 * epoch), 10)\n",
        "\n",
        "model.compile(loss='categorical_crossentropy', optimizer=Adam(lr=0.003), metrics=['accuracy'])"
      ],
      "execution_count": 0,
      "outputs": []
    },
    {
      "cell_type": "code",
      "metadata": {
        "id": "JxHgnA_wJ4jq",
        "colab_type": "code",
        "colab": {}
      },
      "source": [
        "callbacks = [GetBest(monitor='val_acc', verbose=1, mode='max'),LearningRateScheduler(scheduler, verbose=1)]"
      ],
      "execution_count": 0,
      "outputs": []
    },
    {
      "cell_type": "code",
      "metadata": {
        "id": "jfB4FXQn23mr",
        "colab_type": "code",
        "outputId": "a10223e2-d1fc-4ed9-d86e-fadeb2172397",
        "colab": {
          "base_uri": "https://localhost:8080/",
          "height": 1193
        }
      },
      "source": [
        "model.fit(X_train, Y_train, batch_size=256, nb_epoch=10,  validation_data=(X_test, Y_test),verbose=1,callbacks=callbacks)"
      ],
      "execution_count": 0,
      "outputs": [
        {
          "output_type": "stream",
          "text": [
            "WARNING:tensorflow:From /usr/local/lib/python3.6/dist-packages/tensorflow/python/ops/math_ops.py:3066: to_int32 (from tensorflow.python.ops.math_ops) is deprecated and will be removed in a future version.\n",
            "Instructions for updating:\n",
            "Use tf.cast instead.\n"
          ],
          "name": "stdout"
        },
        {
          "output_type": "stream",
          "text": [
            "/usr/local/lib/python3.6/dist-packages/ipykernel_launcher.py:1: UserWarning: The `nb_epoch` argument in `fit` has been renamed `epochs`.\n",
            "  \"\"\"Entry point for launching an IPython kernel.\n"
          ],
          "name": "stderr"
        },
        {
          "output_type": "stream",
          "text": [
            "Train on 60000 samples, validate on 10000 samples\n",
            "Epoch 1/10\n",
            "\n",
            "Epoch 00001: LearningRateScheduler setting learning rate to 0.003.\n",
            "60000/60000 [==============================] - 8s 139us/step - loss: 0.5263 - acc: 0.9079 - val_loss: 0.1536 - val_acc: 0.9771\n",
            "\n",
            "Epoch 00001: val_acc improved from -inf to 0.97710, storing weights.\n",
            "Epoch 2/10\n",
            "\n",
            "Epoch 00002: LearningRateScheduler setting learning rate to 0.0022744503.\n",
            "60000/60000 [==============================] - 4s 74us/step - loss: 0.1778 - acc: 0.9760 - val_loss: 0.1190 - val_acc: 0.9817\n",
            "\n",
            "Epoch 00002: val_acc improved from 0.97710 to 0.98170, storing weights.\n",
            "Epoch 3/10\n",
            "\n",
            "Epoch 00003: LearningRateScheduler setting learning rate to 0.0018315018.\n",
            "60000/60000 [==============================] - 4s 72us/step - loss: 0.1209 - acc: 0.9827 - val_loss: 0.0753 - val_acc: 0.9865\n",
            "\n",
            "Epoch 00003: val_acc improved from 0.98170 to 0.98650, storing weights.\n",
            "Epoch 4/10\n",
            "\n",
            "Epoch 00004: LearningRateScheduler setting learning rate to 0.0015329586.\n",
            "60000/60000 [==============================] - 4s 72us/step - loss: 0.0949 - acc: 0.9856 - val_loss: 0.0715 - val_acc: 0.9873\n",
            "\n",
            "Epoch 00004: val_acc improved from 0.98650 to 0.98730, storing weights.\n",
            "Epoch 5/10\n",
            "\n",
            "Epoch 00005: LearningRateScheduler setting learning rate to 0.0013181019.\n",
            "60000/60000 [==============================] - 5s 76us/step - loss: 0.0796 - acc: 0.9864 - val_loss: 0.0634 - val_acc: 0.9884\n",
            "\n",
            "Epoch 00005: val_acc improved from 0.98730 to 0.98840, storing weights.\n",
            "Epoch 6/10\n",
            "\n",
            "Epoch 00006: LearningRateScheduler setting learning rate to 0.0011560694.\n",
            "60000/60000 [==============================] - 5s 77us/step - loss: 0.0701 - acc: 0.9877 - val_loss: 0.0537 - val_acc: 0.9881\n",
            "\n",
            "Epoch 00006: val_acc did not improve\n",
            "Epoch 7/10\n",
            "\n",
            "Epoch 00007: LearningRateScheduler setting learning rate to 0.0010295127.\n",
            "60000/60000 [==============================] - 4s 74us/step - loss: 0.0635 - acc: 0.9884 - val_loss: 0.0469 - val_acc: 0.9903\n",
            "\n",
            "Epoch 00007: val_acc improved from 0.98840 to 0.99030, storing weights.\n",
            "Epoch 8/10\n",
            "\n",
            "Epoch 00008: LearningRateScheduler setting learning rate to 0.0009279307.\n",
            "60000/60000 [==============================] - 4s 72us/step - loss: 0.0584 - acc: 0.9895 - val_loss: 0.0418 - val_acc: 0.9910\n",
            "\n",
            "Epoch 00008: val_acc improved from 0.99030 to 0.99100, storing weights.\n",
            "Epoch 9/10\n",
            "\n",
            "Epoch 00009: LearningRateScheduler setting learning rate to 0.0008445946.\n",
            "60000/60000 [==============================] - 4s 71us/step - loss: 0.0538 - acc: 0.9898 - val_loss: 0.0409 - val_acc: 0.9917\n",
            "\n",
            "Epoch 00009: val_acc improved from 0.99100 to 0.99170, storing weights.\n",
            "Epoch 10/10\n",
            "\n",
            "Epoch 00010: LearningRateScheduler setting learning rate to 0.0007749935.\n",
            "60000/60000 [==============================] - 4s 71us/step - loss: 0.0498 - acc: 0.9904 - val_loss: 0.0384 - val_acc: 0.9918\n",
            "\n",
            "Epoch 00010: val_acc improved from 0.99170 to 0.99180, storing weights.\n",
            "Using epoch 00010 with val_acc: 0.99180\n"
          ],
          "name": "stdout"
        },
        {
          "output_type": "execute_result",
          "data": {
            "text/plain": [
              "<keras.callbacks.History at 0x7fa3edaa2cc0>"
            ]
          },
          "metadata": {
            "tags": []
          },
          "execution_count": 17
        }
      ]
    },
    {
      "cell_type": "code",
      "metadata": {
        "id": "AtsH-lLk-eLb",
        "colab_type": "code",
        "colab": {}
      },
      "source": [
        "score = model.evaluate(X_test, Y_test, verbose=0)"
      ],
      "execution_count": 0,
      "outputs": []
    },
    {
      "cell_type": "code",
      "metadata": {
        "id": "mkX8JMv79q9r",
        "colab_type": "code",
        "outputId": "98fd5039-5aba-4b9d-f47a-90d82e37b73d",
        "colab": {
          "base_uri": "https://localhost:8080/",
          "height": 34
        }
      },
      "source": [
        "print(score)"
      ],
      "execution_count": 0,
      "outputs": [
        {
          "output_type": "stream",
          "text": [
            "[0.03835695506036282, 0.9918]\n"
          ],
          "name": "stdout"
        }
      ]
    },
    {
      "cell_type": "code",
      "metadata": {
        "id": "OCWoJkwE9suh",
        "colab_type": "code",
        "colab": {}
      },
      "source": [
        "y_pred = model.predict(X_test)"
      ],
      "execution_count": 0,
      "outputs": []
    },
    {
      "cell_type": "code",
      "metadata": {
        "id": "Ym7iCFBm9uBs",
        "colab_type": "code",
        "outputId": "210019dd-a53d-43c6-9699-493600378c3a",
        "colab": {
          "base_uri": "https://localhost:8080/",
          "height": 340
        }
      },
      "source": [
        "print(y_pred[:9])\n",
        "print(y_test[:9])"
      ],
      "execution_count": 0,
      "outputs": [
        {
          "output_type": "stream",
          "text": [
            "[[6.0573377e-04 2.7405948e-04 6.6508609e-04 2.3384187e-04 4.6672332e-04\n",
            "  2.2506159e-04 5.6096632e-04 9.9641126e-01 3.5720086e-04 1.9998083e-04]\n",
            " [1.3823593e-03 9.8453322e-04 9.9191499e-01 3.2501589e-04 1.5967700e-04\n",
            "  2.0889261e-04 4.0864372e-03 5.2665483e-04 1.3834637e-04 2.7299064e-04]\n",
            " [3.9027020e-04 9.9207002e-01 4.8599567e-04 1.3337785e-03 8.9304941e-04\n",
            "  1.3012351e-03 9.4977760e-04 8.7888422e-04 8.6687435e-04 8.3015225e-04]\n",
            " [9.8872107e-01 7.5721485e-04 1.0981981e-03 6.5815705e-04 5.7924970e-04\n",
            "  2.6158238e-04 5.1141479e-03 9.1424509e-04 8.5792062e-04 1.0382950e-03]\n",
            " [4.6434923e-04 4.9977575e-04 2.0057907e-04 1.6042606e-04 9.9607593e-01\n",
            "  1.3290533e-04 3.6851416e-04 1.1730353e-04 4.2600231e-04 1.5542994e-03]\n",
            " [3.1812335e-04 9.9504340e-01 5.3195219e-04 3.8174147e-04 5.9416692e-04\n",
            "  6.9843326e-04 6.0831837e-04 5.6401140e-04 6.7640998e-04 5.8343232e-04]\n",
            " [3.0542249e-04 4.8427211e-04 9.4948709e-04 4.0484698e-05 9.9354303e-01\n",
            "  4.6067836e-04 1.9228122e-04 4.1694543e-04 3.3089132e-03 2.9835734e-04]\n",
            " [4.5882139e-04 7.5227075e-04 1.7269530e-03 2.5732457e-04 2.2504141e-03\n",
            "  3.7585103e-04 1.9521538e-04 1.2463926e-04 8.0789498e-04 9.9305058e-01]\n",
            " [7.7608614e-03 1.2753065e-03 2.1627673e-03 5.1770831e-04 3.7649681e-03\n",
            "  8.0908680e-01 4.4584658e-02 4.3000607e-03 1.2467104e-01 1.8758185e-03]]\n",
            "[7 2 1 0 4 1 4 9 5]\n"
          ],
          "name": "stdout"
        }
      ]
    },
    {
      "cell_type": "code",
      "metadata": {
        "id": "CT--y98_dr2T",
        "colab_type": "code",
        "colab": {}
      },
      "source": [
        "layer_dict = dict([(layer.name, layer) for layer in model.layers])"
      ],
      "execution_count": 0,
      "outputs": []
    },
    {
      "cell_type": "code",
      "metadata": {
        "id": "2GY4Upv4dsUR",
        "colab_type": "code",
        "outputId": "bb17a688-a35e-4b0d-e969-328c2d706eb5",
        "colab": {
          "base_uri": "https://localhost:8080/",
          "height": 741
        }
      },
      "source": [
        "import numpy as np\n",
        "from matplotlib import pyplot as plt\n",
        "from keras import backend as K\n",
        "%matplotlib inline\n",
        "# util function to convert a tensor into a valid image\n",
        "def deprocess_image(x):\n",
        "    # normalize tensor: center on 0., ensure std is 0.1\n",
        "    x -= x.mean()\n",
        "    x /= (x.std() + 1e-5)\n",
        "    x *= 0.1\n",
        "\n",
        "    # clip to [0, 1]\n",
        "    x += 0.5\n",
        "    x = np.clip(x, 0, 1)\n",
        "\n",
        "    # convert to RGB array\n",
        "    x *= 255\n",
        "    #x = x.transpose((1, 2, 0))\n",
        "    x = np.clip(x, 0, 255).astype('uint8')\n",
        "    return x\n",
        "\n",
        "def vis_img_in_filter(img = np.array(X_train[2]).reshape((1, 28, 28, 1)).astype(np.float64), \n",
        "                      layer_name = 'conv2d_6'):\n",
        "    layer_output = layer_dict[layer_name].output\n",
        "    img_ascs = list()\n",
        "    for filter_index in range(layer_output.shape[3]):\n",
        "        # build a loss function that maximizes the activation\n",
        "        # of the nth filter of the layer considered\n",
        "        loss = K.mean(layer_output[:, :, :, filter_index])\n",
        "\n",
        "        # compute the gradient of the input picture wrt this loss\n",
        "        grads = K.gradients(loss, model.input)[0]\n",
        "\n",
        "        # normalization trick: we normalize the gradient\n",
        "        grads /= (K.sqrt(K.mean(K.square(grads))) + 1e-5)\n",
        "\n",
        "        # this function returns the loss and grads given the input picture\n",
        "        iterate = K.function([model.input], [loss, grads])\n",
        "\n",
        "        # step size for gradient ascent\n",
        "        step = 5.\n",
        "\n",
        "        img_asc = np.array(img)\n",
        "        # run gradient ascent for 20 steps\n",
        "        for i in range(20):\n",
        "            loss_value, grads_value = iterate([img_asc])\n",
        "            img_asc += grads_value * step\n",
        "\n",
        "        img_asc = img_asc[0]\n",
        "        img_ascs.append(deprocess_image(img_asc).reshape((28, 28)))\n",
        "        \n",
        "    if layer_output.shape[3] >= 35:\n",
        "        plot_x, plot_y = 6, 6\n",
        "    elif layer_output.shape[3] >= 23:\n",
        "        plot_x, plot_y = 4, 6\n",
        "    elif layer_output.shape[3] >= 11:\n",
        "        plot_x, plot_y = 2, 6\n",
        "    else:\n",
        "        plot_x, plot_y = 2,4\n",
        "    fig, ax = plt.subplots(plot_x, plot_y, figsize = (12, 12))\n",
        "    ax[0, 0].imshow(img.reshape((28, 28)), cmap = 'gray')\n",
        "    ax[0, 0].set_title('Input image')\n",
        "    fig.suptitle('Input image and %s filters' % (layer_name,))\n",
        "    fig.tight_layout(pad = 0.3, rect = [0, 0, 0.9, 0.9])\n",
        "    for (x, y) in [(i, j) for i in range(plot_x) for j in range(plot_y)]:\n",
        "        if x == 0 and y == 0:\n",
        "            continue\n",
        "        ax[x, y].imshow(img_ascs[x * plot_y + y - 1], cmap = 'gray')\n",
        "        ax[x, y].set_title('filter %d' % (x * plot_y + y - 1))\n",
        "\n",
        "vis_img_in_filter()"
      ],
      "execution_count": 0,
      "outputs": [
        {
          "output_type": "display_data",
          "data": {
            "image/png": "[encoded data removed]",
            "text/plain": [
              "<Figure size 864x864 with 12 Axes>"
            ]
          },
          "metadata": {
            "tags": []
          }
        }
      ]
    },
    {
      "cell_type": "markdown",
      "metadata": {
        "id": "fEbuZz5f7xHM",
        "colab_type": "text"
      },
      "source": [
        "**Observation:**\n",
        "\n",
        "The desire to beat my own model and accuracy in last iteration, I introduced learning rate scheduler to my model.\n",
        "And I thought of running for lesser number of epochs to put more of challenge and see if I can touch the magical number of 352(oops!! Politics on mind).\n",
        "\n",
        "Anyways I was too ambitious and was caught off gaurd when I couldnt get my desired output. \n",
        "The decreasing LR certainly helped but here again I see validation accuracy more than training accuracy."
      ]
    },
    {
      "cell_type": "code",
      "metadata": {
        "id": "9tvptcn8dxvp",
        "colab_type": "code",
        "colab": {}
      },
      "source": [
        ""
      ],
      "execution_count": 0,
      "outputs": []
    }
  ]
}